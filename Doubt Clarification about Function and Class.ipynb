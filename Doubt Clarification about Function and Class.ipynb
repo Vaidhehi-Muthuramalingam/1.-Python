{
 "cells": [
  {
   "cell_type": "code",
   "execution_count": 1,
   "metadata": {},
   "outputs": [],
   "source": [
    "def totalofmarks(marks1,marks2,marks3,marks4,marks5):\n",
    "    print(marks1)\n",
    "    print(marks2)\n",
    "    print(marks3)\n",
    "    print(marks4)\n",
    "    print(marks5)\n",
    "    totalofmarks=marks1+marks2+marks3+marks4+marks5\n",
    "    return totalofmarks "
   ]
  },
  {
   "cell_type": "code",
   "execution_count": 2,
   "metadata": {},
   "outputs": [
    {
     "ename": "NameError",
     "evalue": "name 'marks1' is not defined",
     "output_type": "error",
     "traceback": [
      "\u001b[1;31m---------------------------------------------------------------------------\u001b[0m",
      "\u001b[1;31mNameError\u001b[0m                                 Traceback (most recent call last)",
      "\u001b[1;32m<ipython-input-2-b0c144301679>\u001b[0m in \u001b[0;36m<module>\u001b[1;34m\u001b[0m\n\u001b[1;32m----> 1\u001b[1;33m \u001b[0mtotalofmarks\u001b[0m\u001b[1;33m(\u001b[0m\u001b[0mmarks1\u001b[0m\u001b[1;33m,\u001b[0m\u001b[0mmarks2\u001b[0m\u001b[1;33m,\u001b[0m\u001b[0mmarks3\u001b[0m\u001b[1;33m,\u001b[0m\u001b[0mmarks4\u001b[0m\u001b[1;33m,\u001b[0m\u001b[0mmarks5\u001b[0m\u001b[1;33m)\u001b[0m\u001b[1;33m\u001b[0m\u001b[1;33m\u001b[0m\u001b[0m\n\u001b[0m",
      "\u001b[1;31mNameError\u001b[0m: name 'marks1' is not defined"
     ]
    }
   ],
   "source": [
    "totalofmarks(marks1,marks2,marks3,marks4,marks5)"
   ]
  },
  {
   "cell_type": "code",
   "execution_count": 3,
   "metadata": {},
   "outputs": [
    {
     "ename": "NameError",
     "evalue": "name 'marks1' is not defined",
     "output_type": "error",
     "traceback": [
      "\u001b[1;31m---------------------------------------------------------------------------\u001b[0m",
      "\u001b[1;31mNameError\u001b[0m                                 Traceback (most recent call last)",
      "\u001b[1;32m<ipython-input-3-9932f3668089>\u001b[0m in \u001b[0;36m<module>\u001b[1;34m\u001b[0m\n\u001b[1;32m----> 1\u001b[1;33m \u001b[0mtotall\u001b[0m\u001b[1;33m=\u001b[0m\u001b[0mtotalofmarks\u001b[0m\u001b[1;33m(\u001b[0m\u001b[0mmarks1\u001b[0m\u001b[1;33m,\u001b[0m\u001b[0mmarks2\u001b[0m\u001b[1;33m,\u001b[0m\u001b[0mmarks3\u001b[0m\u001b[1;33m,\u001b[0m\u001b[0mmarks4\u001b[0m\u001b[1;33m,\u001b[0m\u001b[0mmarks5\u001b[0m\u001b[1;33m)\u001b[0m\u001b[1;33m\u001b[0m\u001b[1;33m\u001b[0m\u001b[0m\n\u001b[0m",
      "\u001b[1;31mNameError\u001b[0m: name 'marks1' is not defined"
     ]
    }
   ],
   "source": [
    "totall=totalofmarks(marks1,marks2,marks3,marks4,marks5)"
   ]
  },
  {
   "cell_type": "code",
   "execution_count": 4,
   "metadata": {},
   "outputs": [],
   "source": [
    "def percentageofmarks(marks1,marks2,marks3,marks4,marks5):\n",
    "    print(marks1)\n",
    "    print(marks2)\n",
    "    print(marks3)\n",
    "    print(marks4)\n",
    "    print(marks5)\n",
    "    percentageofmarks=((marks1+marks2+marks3+marks4+marks5)/500)*100\n",
    "    return percentageofmarks                  "
   ]
  },
  {
   "cell_type": "code",
   "execution_count": 5,
   "metadata": {},
   "outputs": [
    {
     "ename": "NameError",
     "evalue": "name 'marks1' is not defined",
     "output_type": "error",
     "traceback": [
      "\u001b[1;31m---------------------------------------------------------------------------\u001b[0m",
      "\u001b[1;31mNameError\u001b[0m                                 Traceback (most recent call last)",
      "\u001b[1;32m<ipython-input-5-ed63e01dd283>\u001b[0m in \u001b[0;36m<module>\u001b[1;34m\u001b[0m\n\u001b[1;32m----> 1\u001b[1;33m \u001b[0mpercentageofmarks\u001b[0m\u001b[1;33m(\u001b[0m\u001b[0mmarks1\u001b[0m\u001b[1;33m,\u001b[0m\u001b[0mmarks2\u001b[0m\u001b[1;33m,\u001b[0m\u001b[0mmarks3\u001b[0m\u001b[1;33m,\u001b[0m\u001b[0mmarks4\u001b[0m\u001b[1;33m,\u001b[0m\u001b[0mmarks5\u001b[0m\u001b[1;33m)\u001b[0m\u001b[1;33m\u001b[0m\u001b[1;33m\u001b[0m\u001b[0m\n\u001b[0m",
      "\u001b[1;31mNameError\u001b[0m: name 'marks1' is not defined"
     ]
    }
   ],
   "source": [
    "percentageofmarks(marks1,marks2,marks3,marks4,marks5)"
   ]
  },
  {
   "cell_type": "code",
   "execution_count": 6,
   "metadata": {},
   "outputs": [
    {
     "ename": "NameError",
     "evalue": "name 'marks1' is not defined",
     "output_type": "error",
     "traceback": [
      "\u001b[1;31m---------------------------------------------------------------------------\u001b[0m",
      "\u001b[1;31mNameError\u001b[0m                                 Traceback (most recent call last)",
      "\u001b[1;32m<ipython-input-6-0336e5f64d81>\u001b[0m in \u001b[0;36m<module>\u001b[1;34m\u001b[0m\n\u001b[1;32m----> 1\u001b[1;33m \u001b[0mpercentagee\u001b[0m\u001b[1;33m=\u001b[0m\u001b[0mpercentageofmarks\u001b[0m\u001b[1;33m(\u001b[0m\u001b[0mmarks1\u001b[0m\u001b[1;33m,\u001b[0m\u001b[0mmarks2\u001b[0m\u001b[1;33m,\u001b[0m\u001b[0mmarks3\u001b[0m\u001b[1;33m,\u001b[0m\u001b[0mmarks4\u001b[0m\u001b[1;33m,\u001b[0m\u001b[0mmarks5\u001b[0m\u001b[1;33m)\u001b[0m\u001b[1;33m\u001b[0m\u001b[1;33m\u001b[0m\u001b[0m\n\u001b[0m",
      "\u001b[1;31mNameError\u001b[0m: name 'marks1' is not defined"
     ]
    }
   ],
   "source": [
    "percentagee=percentageofmarks(marks1,marks2,marks3,marks4,marks5)"
   ]
  },
  {
   "cell_type": "code",
   "execution_count": 7,
   "metadata": {},
   "outputs": [],
   "source": [
    "def areaoftriangle():\n",
    "    height=int(input(\"Enter the height of Triangle:\"))\n",
    "    breadth=int(input(\"Enter the breadth of Triangle:\"))\n",
    "    areaoftriangle=(height*breadth)/2\n",
    "    print(\"Area of Triangle:\",areaoftriangle)\n",
    "    area=areaoftriangle\n",
    "    return area"
   ]
  },
  {
   "cell_type": "code",
   "execution_count": 8,
   "metadata": {},
   "outputs": [
    {
     "name": "stdout",
     "output_type": "stream",
     "text": [
      "Enter the height of Triangle:32\n",
      "Enter the breadth of Triangle:34\n",
      "Area of Triangle: 544.0\n"
     ]
    },
    {
     "data": {
      "text/plain": [
       "544.0"
      ]
     },
     "execution_count": 8,
     "metadata": {},
     "output_type": "execute_result"
    }
   ],
   "source": [
    "areaoftriangle()"
   ]
  },
  {
   "cell_type": "code",
   "execution_count": 9,
   "metadata": {},
   "outputs": [
    {
     "name": "stdout",
     "output_type": "stream",
     "text": [
      "Enter the height of Triangle:32\n",
      "Enter the breadth of Triangle:34\n",
      "Area of Triangle: 544.0\n"
     ]
    }
   ],
   "source": [
    "areaa=areaoftriangle()"
   ]
  },
  {
   "cell_type": "code",
   "execution_count": 10,
   "metadata": {},
   "outputs": [
    {
     "name": "stdout",
     "output_type": "stream",
     "text": [
      "Enter the height of Triangle:32\n",
      "Enter the breadth of Triangle:34\n",
      "Area of Triangle: 544.0\n"
     ]
    }
   ],
   "source": [
    "areaaa=areaoftriangle()"
   ]
  },
  {
   "cell_type": "code",
   "execution_count": 11,
   "metadata": {},
   "outputs": [
    {
     "name": "stdout",
     "output_type": "stream",
     "text": [
      "Enter the height of Triangle:32\n",
      "Enter the breadth of Triangle:34\n",
      "Area of Triangle: 544.0\n"
     ]
    }
   ],
   "source": [
    "areaof=areaoftriangle()"
   ]
  },
  {
   "cell_type": "code",
   "execution_count": 12,
   "metadata": {},
   "outputs": [
    {
     "name": "stdout",
     "output_type": "stream",
     "text": [
      "Enter the height of Triangle:32\n",
      "Enter the breadth of Triangle:34\n",
      "Area of Triangle: 544.0\n"
     ]
    }
   ],
   "source": [
    "areaoftriangle=areaoftriangle()"
   ]
  },
  {
   "cell_type": "code",
   "execution_count": null,
   "metadata": {},
   "outputs": [],
   "source": []
  }
 ],
 "metadata": {
  "kernelspec": {
   "display_name": "Python 3",
   "language": "python",
   "name": "python3"
  },
  "language_info": {
   "codemirror_mode": {
    "name": "ipython",
    "version": 3
   },
   "file_extension": ".py",
   "mimetype": "text/x-python",
   "name": "python",
   "nbconvert_exporter": "python",
   "pygments_lexer": "ipython3",
   "version": "3.7.4"
  }
 },
 "nbformat": 4,
 "nbformat_minor": 2
}
