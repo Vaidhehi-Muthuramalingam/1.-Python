{
 "cells": [
  {
   "cell_type": "code",
   "execution_count": 12,
   "metadata": {},
   "outputs": [
    {
     "name": "stdout",
     "output_type": "stream",
     "text": [
      "Sub-fields in AI are:\n",
      "Machine Learning\n",
      "Neural Networks\n",
      "Vision\n",
      "Robotics\n",
      "Speech Processing\n",
      "Natural Language Processing\n"
     ]
    }
   ],
   "source": [
    "my_string='Sub-fields in AI are:'\n",
    "print(my_string)\n",
    "my_string='Machine Learning'\n",
    "print(my_string)\n",
    "my_string='Neural Networks'\n",
    "print(my_string)\n",
    "my_string='Vision'\n",
    "print(my_string)\n",
    "my_string='Robotics'\n",
    "print(my_string)\n",
    "my_string='Speech Processing'\n",
    "print(my_string)\n",
    "my_string='Natural Language Processing'\n",
    "print(my_string)"
   ]
  },
  {
   "cell_type": "code",
   "execution_count": 13,
   "metadata": {},
   "outputs": [
    {
     "name": "stdout",
     "output_type": "stream",
     "text": [
      "Sub-fields in AI are:\n",
      "Machine Learning\n",
      "Neural Networks\n",
      "Vision\n",
      "Robotics\n",
      "Speech Processing\n",
      "Natural Language Processing\n"
     ]
    }
   ],
   "source": [
    "my_string='Sub-fields in AI are:'\n",
    "print(my_string)\n",
    "my_string='Machine Learning'\n",
    "print(my_string)\n",
    "my_string='Neural Networks'\n",
    "print(my_string)\n",
    "my_string='Vision'\n",
    "print(my_string)\n",
    "my_string='Robotics'\n",
    "print(my_string)\n",
    "my_string='Speech Processing'\n",
    "print(my_string)\n",
    "my_string='Natural Language Processing'\n",
    "print(my_string)"
   ]
  },
  {
   "cell_type": "code",
   "execution_count": 26,
   "metadata": {},
   "outputs": [],
   "source": [
    "def Subfields():\n",
    "    my_string='Sub-fields in AI are:'\n",
    "    print(my_string)\n",
    "    message=\"Sub-fields in AI are:\"\n",
    "    my_string=\"Machine Learning\"\n",
    "    print(my_string)\n",
    "    message=\"Machine Learning\"\n",
    "    my_string='''Neural Networks'''\n",
    "    print(my_string)\n",
    "    message=\"Neural Networks\"\n",
    "    my_string=\"\"\"Vision\"\"\"\n",
    "    print(my_string)\n",
    "    message=\"Vision\"\n",
    "    my_string=\"\"\"Robotics\"\"\"\n",
    "    print(my_string)\n",
    "    message=\"Robotics\"\n",
    "    my_string=\"\"\"Speech Processing\"\"\"\n",
    "    print(my_string)\n",
    "    message=\"Speech Processing\"\n",
    "    my_string=\"\"\"Natural Language Processing\"\"\"\n",
    "    print(my_string)\n",
    "    message=\"Natural Language Processing\"\n",
    "    return message"
   ]
  },
  {
   "cell_type": "code",
   "execution_count": 27,
   "metadata": {},
   "outputs": [
    {
     "name": "stdout",
     "output_type": "stream",
     "text": [
      "Sub-fields in AI are:\n",
      "Machine Learning\n",
      "Neural Networks\n",
      "Vision\n",
      "Robotics\n",
      "Speech Processing\n",
      "Natural Language Processing\n"
     ]
    },
    {
     "data": {
      "text/plain": [
       "'Natural Language Processing'"
      ]
     },
     "execution_count": 27,
     "metadata": {},
     "output_type": "execute_result"
    }
   ],
   "source": [
    "Subfields()"
   ]
  },
  {
   "cell_type": "code",
   "execution_count": 28,
   "metadata": {},
   "outputs": [
    {
     "name": "stdout",
     "output_type": "stream",
     "text": [
      "Sub-fields in AI are:\n",
      "Machine Learning\n",
      "Neural Networks\n",
      "Vision\n",
      "Robotics\n",
      "Speech Processing\n",
      "Natural Language Processing\n"
     ]
    }
   ],
   "source": [
    "SubfieldsInAI=Subfields()"
   ]
  },
  {
   "cell_type": "code",
   "execution_count": 1,
   "metadata": {},
   "outputs": [
    {
     "name": "stdout",
     "output_type": "stream",
     "text": [
      "Sub-fields in AI are:\n",
      "Machine Learning\n",
      "Neural Networks\n",
      "Vision\n",
      "Robotics\n",
      "Speech Processing\n",
      "Natural Language Processing\n"
     ]
    }
   ],
   "source": [
    "message=\"Sub-fields in AI are:\"\n",
    "print(message)\n",
    "message=\"Machine Learning\"\n",
    "print(message)\n",
    "message=\"Neural Networks\"\n",
    "print(message)\n",
    "message=\"Vision\"\n",
    "print(message)\n",
    "message=\"Robotics\"\n",
    "print(message)\n",
    "message=\"Speech Processing\"\n",
    "print(message)\n",
    "message=\"Natural Language Processing\"\n",
    "print(message)"
   ]
  },
  {
   "cell_type": "code",
   "execution_count": 5,
   "metadata": {},
   "outputs": [],
   "source": [
    "def Subfields():\n",
    "    message=\"Sub-fields in AI are:\"\n",
    "    print(message)\n",
    "    subfields=message\n",
    "    message=\"Machine Learning\"\n",
    "    print(message)\n",
    "    subfields=message\n",
    "    message=\"Neural Networks\"\n",
    "    print(message)\n",
    "    subfields=message\n",
    "    message=\"Vision\"\n",
    "    print(message)\n",
    "    subfields=message\n",
    "    message=\"Robotics\"\n",
    "    print(message)\n",
    "    subfields=message\n",
    "    message=\"Speech Processing\"\n",
    "    print(message)\n",
    "    subfields=message\n",
    "    message=\"Natural Language Processing\"\n",
    "    print(message)\n",
    "    subfields=message\n",
    "    return Subfields"
   ]
  },
  {
   "cell_type": "code",
   "execution_count": 6,
   "metadata": {},
   "outputs": [
    {
     "name": "stdout",
     "output_type": "stream",
     "text": [
      "Sub-fields in AI are:\n",
      "Machine Learning\n",
      "Neural Networks\n",
      "Vision\n",
      "Robotics\n",
      "Speech Processing\n",
      "Natural Language Processing\n"
     ]
    },
    {
     "data": {
      "text/plain": [
       "<function __main__.Subfields()>"
      ]
     },
     "execution_count": 6,
     "metadata": {},
     "output_type": "execute_result"
    }
   ],
   "source": [
    "Subfields()"
   ]
  },
  {
   "cell_type": "code",
   "execution_count": 5,
   "metadata": {},
   "outputs": [
    {
     "name": "stdout",
     "output_type": "stream",
     "text": [
      "Sub-fields in AI are:\n",
      "Machine Learning\n",
      "Neural Networks\n",
      "Vision\n",
      "Robotics\n",
      "Speech Processing\n",
      "Natural Language Processing\n"
     ]
    }
   ],
   "source": [
    "lists=[\"Sub-fields in AI are:\",\"Machine Learning\",\"Neural Networks\",\"Vision\",\"Robotics\",\"Speech Processing\",\"Natural Language Processing\"]\n",
    "for subfields in lists:\n",
    "    print(subfields)\n",
    "    "
   ]
  },
  {
   "cell_type": "code",
   "execution_count": 16,
   "metadata": {},
   "outputs": [],
   "source": [
    "def Subfields():\n",
    "    lists=[\"Sub-fields in AI are:\",\"Machine Learning\",\"Neural Networks\",\"Vision\",\"Robotics\",\"Speech Processing\",\"Natural Language Processing\"]\n",
    "    for subfields in lists:\n",
    "        print(subfields)\n",
    "        message=subfields\n",
    "        return message"
   ]
  },
  {
   "cell_type": "code",
   "execution_count": 18,
   "metadata": {},
   "outputs": [
    {
     "name": "stdout",
     "output_type": "stream",
     "text": [
      "Sub-fields in AI are:\n"
     ]
    }
   ],
   "source": [
    "SubfieldsInAI=Subfields()"
   ]
  },
  {
   "cell_type": "code",
   "execution_count": 17,
   "metadata": {},
   "outputs": [
    {
     "name": "stdout",
     "output_type": "stream",
     "text": [
      "Sub-fields in AI are:\n"
     ]
    },
    {
     "data": {
      "text/plain": [
       "'Sub-fields in AI are:'"
      ]
     },
     "execution_count": 17,
     "metadata": {},
     "output_type": "execute_result"
    }
   ],
   "source": [
    "Subfields()"
   ]
  },
  {
   "cell_type": "code",
   "execution_count": 27,
   "metadata": {},
   "outputs": [
    {
     "name": "stdout",
     "output_type": "stream",
     "text": [
      "Enter a number:52452\n",
      "52452 is Even number\n"
     ]
    }
   ],
   "source": [
    "number=int(input(\"Enter a number:\"))\n",
    "if((number%2)==0):\n",
    "    print(number,\"is Even number\")\n",
    "else:\n",
    "    print(number,\"is Odd number\")"
   ]
  },
  {
   "cell_type": "code",
   "execution_count": 10,
   "metadata": {},
   "outputs": [],
   "source": [
    "def OddEven():\n",
    "    number=int(input(\"Enter a number:\"))\n",
    "    if((number%2)==0):\n",
    "        print(number,\"is Even number\")\n",
    "        message=number,\"is Even number\"\n",
    "    else:\n",
    "        print(number,\"is Odd number\")\n",
    "        message=number,\"is Odd number\"\n",
    "    return message"
   ]
  },
  {
   "cell_type": "code",
   "execution_count": 11,
   "metadata": {},
   "outputs": [
    {
     "name": "stdout",
     "output_type": "stream",
     "text": [
      "Enter a number:52452\n",
      "52452 is Even number\n"
     ]
    },
    {
     "data": {
      "text/plain": [
       "(52452, 'is Even number')"
      ]
     },
     "execution_count": 11,
     "metadata": {},
     "output_type": "execute_result"
    }
   ],
   "source": [
    "OddEven()"
   ]
  },
  {
   "cell_type": "code",
   "execution_count": 12,
   "metadata": {},
   "outputs": [
    {
     "name": "stdout",
     "output_type": "stream",
     "text": [
      "Enter a number:52452\n",
      "52452 is Even number\n"
     ]
    }
   ],
   "source": [
    "OddEven=OddEven()"
   ]
  },
  {
   "cell_type": "code",
   "execution_count": 33,
   "metadata": {},
   "outputs": [
    {
     "name": "stdout",
     "output_type": "stream",
     "text": [
      "Enter a number:52452\n",
      "52452 is Even number\n"
     ]
    }
   ],
   "source": [
    "number=int(input(\"Enter a number:\"))\n",
    "if((number%2)==1):\n",
    "    print(number,\"is Odd number\")\n",
    "else:\n",
    "    print(number,\"is Even number\")"
   ]
  },
  {
   "cell_type": "code",
   "execution_count": 34,
   "metadata": {},
   "outputs": [],
   "source": [
    "def OddEven():\n",
    "    number=int(input(\"Enter a number:\"))\n",
    "    if((number%2)==1):\n",
    "        print(number,\"is Odd number\")\n",
    "        message=number,\"is Odd number\"\n",
    "    else:\n",
    "        print(number,\"is Even number\")\n",
    "        message=number,\"is Even number\"\n",
    "    return message"
   ]
  },
  {
   "cell_type": "code",
   "execution_count": 35,
   "metadata": {},
   "outputs": [
    {
     "name": "stdout",
     "output_type": "stream",
     "text": [
      "Enter a number:52452\n",
      "52452 is Even number\n"
     ]
    },
    {
     "data": {
      "text/plain": [
       "(52452, 'is Even number')"
      ]
     },
     "execution_count": 35,
     "metadata": {},
     "output_type": "execute_result"
    }
   ],
   "source": [
    "OddEven()"
   ]
  },
  {
   "cell_type": "code",
   "execution_count": 36,
   "metadata": {},
   "outputs": [
    {
     "name": "stdout",
     "output_type": "stream",
     "text": [
      "Enter a number:52452\n",
      "52452 is Even number\n"
     ]
    }
   ],
   "source": [
    "OddEven=OddEven()"
   ]
  },
  {
   "cell_type": "code",
   "execution_count": 37,
   "metadata": {},
   "outputs": [
    {
     "name": "stdout",
     "output_type": "stream",
     "text": [
      "Enter a number:52452\n",
      "52452 is Even number\n"
     ]
    }
   ],
   "source": [
    "number=int(input(\"Enter a number:\"))\n",
    "if((number%2)==0):\n",
    "    print(number,\"is Even number\")\n",
    "elif((number%2)==1):\n",
    "    print(number,\"is Odd number\")\n",
    "else:\n",
    "    print(\"Invalid\")"
   ]
  },
  {
   "cell_type": "code",
   "execution_count": 38,
   "metadata": {},
   "outputs": [],
   "source": [
    "def OddEven():\n",
    "    number=int(input(\"Enter a number:\"))\n",
    "    if((number%2)==0):\n",
    "        print(number,\"is Even number\")\n",
    "        message=number,\"is Even number\"\n",
    "    elif((number%2)==1):\n",
    "        print(number,\"is Odd number\")\n",
    "        message=number,\"is Odd number\"\n",
    "    else:\n",
    "        print(\"Invalid\")\n",
    "        message=\"Invalid\"\n",
    "    return message"
   ]
  },
  {
   "cell_type": "code",
   "execution_count": 39,
   "metadata": {},
   "outputs": [
    {
     "name": "stdout",
     "output_type": "stream",
     "text": [
      "Enter a number:52452\n",
      "52452 is Even number\n"
     ]
    },
    {
     "data": {
      "text/plain": [
       "(52452, 'is Even number')"
      ]
     },
     "execution_count": 39,
     "metadata": {},
     "output_type": "execute_result"
    }
   ],
   "source": [
    "OddEven()"
   ]
  },
  {
   "cell_type": "code",
   "execution_count": 40,
   "metadata": {},
   "outputs": [
    {
     "name": "stdout",
     "output_type": "stream",
     "text": [
      "Enter a number:52452\n",
      "52452 is Even number\n"
     ]
    }
   ],
   "source": [
    "OddEven=OddEven()"
   ]
  },
  {
   "cell_type": "code",
   "execution_count": 42,
   "metadata": {},
   "outputs": [
    {
     "name": "stdout",
     "output_type": "stream",
     "text": [
      "Your Gender:Male\n",
      "Your Age:20\n",
      "NOT ELIGIBLE\n"
     ]
    }
   ],
   "source": [
    "your_gender=input(\"Your Gender:\")\n",
    "your_age=int(input(\"Your Age:\"))\n",
    "if(your_age==21):\n",
    "    print(\"ELIGIBLE\")\n",
    "else:\n",
    "    print(\"NOT ELIGIBLE\")"
   ]
  },
  {
   "cell_type": "code",
   "execution_count": 43,
   "metadata": {},
   "outputs": [],
   "source": [
    "def Elegible():\n",
    "    your_gender=input(\"Your Gender:\")\n",
    "    your_age=int(input(\"Your Age:\"))\n",
    "    if(your_age==21):\n",
    "        print(\"ELIGIBLE\")\n",
    "        message=\"ELIGIBLE\"\n",
    "    else:\n",
    "        print(\"NOT ELIGIBLE\")\n",
    "        message=\"NOT ELIGIBLE\"\n",
    "    return message"
   ]
  },
  {
   "cell_type": "code",
   "execution_count": 44,
   "metadata": {},
   "outputs": [
    {
     "name": "stdout",
     "output_type": "stream",
     "text": [
      "Your Gender:Male\n",
      "Your Age:20\n",
      "NOT ELIGIBLE\n"
     ]
    },
    {
     "data": {
      "text/plain": [
       "'NOT ELIGIBLE'"
      ]
     },
     "execution_count": 44,
     "metadata": {},
     "output_type": "execute_result"
    }
   ],
   "source": [
    "Elegible()"
   ]
  },
  {
   "cell_type": "code",
   "execution_count": 45,
   "metadata": {},
   "outputs": [
    {
     "name": "stdout",
     "output_type": "stream",
     "text": [
      "Your Gender:Male\n",
      "Your Age:20\n",
      "NOT ELIGIBLE\n"
     ]
    }
   ],
   "source": [
    "ElegibilityForMarriage=Elegible()"
   ]
  },
  {
   "cell_type": "code",
   "execution_count": 46,
   "metadata": {},
   "outputs": [
    {
     "name": "stdout",
     "output_type": "stream",
     "text": [
      "Your Gender:Male\n",
      "Your Age:20\n",
      "NOT ELIGIBLE\n"
     ]
    }
   ],
   "source": [
    "your_gender=input(\"Your Gender:\")\n",
    "your_age=int(input(\"Your Age:\"))\n",
    "if(your_age<21):\n",
    "    print(\"NOT ELIGIBLE\")\n",
    "else:\n",
    "    print(\"ELIGIBLE\")"
   ]
  },
  {
   "cell_type": "code",
   "execution_count": 47,
   "metadata": {},
   "outputs": [],
   "source": [
    "def Elegible():\n",
    "    your_gender=input(\"Your Gender:\")\n",
    "    your_age=int(input(\"Your Age:\"))\n",
    "    if(your_age<21):\n",
    "        print(\"NOT ELIGIBLE\")\n",
    "        message=\"NOT ELIGIBLE\"\n",
    "    else:\n",
    "        print(\"ELIGIBLE\")\n",
    "        message=\"ELIGIBLE\"\n",
    "    return message    "
   ]
  },
  {
   "cell_type": "code",
   "execution_count": 48,
   "metadata": {},
   "outputs": [
    {
     "name": "stdout",
     "output_type": "stream",
     "text": [
      "Your Gender:Male\n",
      "Your Age:20\n",
      "NOT ELIGIBLE\n"
     ]
    },
    {
     "data": {
      "text/plain": [
       "'NOT ELIGIBLE'"
      ]
     },
     "execution_count": 48,
     "metadata": {},
     "output_type": "execute_result"
    }
   ],
   "source": [
    "Elegible()"
   ]
  },
  {
   "cell_type": "code",
   "execution_count": 49,
   "metadata": {},
   "outputs": [
    {
     "name": "stdout",
     "output_type": "stream",
     "text": [
      "Your Gender:Male\n",
      "Your Age:20\n",
      "NOT ELIGIBLE\n"
     ]
    }
   ],
   "source": [
    "ElegibilityForMarriage=Elegible()"
   ]
  },
  {
   "cell_type": "code",
   "execution_count": 1,
   "metadata": {},
   "outputs": [],
   "source": [
    "subject1=98\n",
    "subject2=87\n",
    "subject3=95\n",
    "subject4=95\n",
    "subject5=93"
   ]
  },
  {
   "cell_type": "code",
   "execution_count": 2,
   "metadata": {},
   "outputs": [],
   "source": [
    "total=subject1+subject2+subject3+subject4+subject5"
   ]
  },
  {
   "cell_type": "code",
   "execution_count": 3,
   "metadata": {},
   "outputs": [
    {
     "name": "stdout",
     "output_type": "stream",
     "text": [
      "Total: 468\n"
     ]
    }
   ],
   "source": [
    "print(\"Total:\",total)"
   ]
  },
  {
   "cell_type": "code",
   "execution_count": 4,
   "metadata": {},
   "outputs": [
    {
     "name": "stdout",
     "output_type": "stream",
     "text": [
      "Percentage: 93.60000000000001\n"
     ]
    }
   ],
   "source": [
    "percentage=(total/500)*100\n",
    "print(\"Percentage:\",percentage)"
   ]
  },
  {
   "cell_type": "code",
   "execution_count": 9,
   "metadata": {},
   "outputs": [
    {
     "name": "stdout",
     "output_type": "stream",
     "text": [
      "Enter the Subject1:98\n",
      "Enter the Subject2:87\n",
      "Enter the Subject3:95\n",
      "Enter the Subject4:95\n",
      "Enter the Subject5:93\n",
      "Total: 468\n",
      "Percentage: 93.60000000000001\n"
     ]
    }
   ],
   "source": [
    "marks=int(input(\"Enter the Subject1:\"))\n",
    "marks=int(input(\"Enter the Subject2:\"))\n",
    "marks=int(input(\"Enter the Subject3:\"))\n",
    "marks=int(input(\"Enter the Subject4:\"))\n",
    "marks=int(input(\"Enter the Subject5:\"))\n",
    "total=subject1+subject2+subject3+subject4+subject5\n",
    "print(\"Total:\",total)\n",
    "percentage=(total/500)*100\n",
    "print(\"Percentage:\",percentage)"
   ]
  },
  {
   "cell_type": "code",
   "execution_count": 1,
   "metadata": {},
   "outputs": [
    {
     "name": "stdout",
     "output_type": "stream",
     "text": [
      "Enter the Subject1:98\n",
      "Enter the Subject2:87\n",
      "Enter the Subject3:95\n",
      "Enter the Subject4:95\n",
      "Enter the Subject5:93\n",
      "Total: 468\n",
      "Percentage: 93.60000000000001\n"
     ]
    }
   ],
   "source": [
    "marks1=int(input(\"Enter the Subject1:\"))\n",
    "marks2=int(input(\"Enter the Subject2:\"))\n",
    "marks3=int(input(\"Enter the Subject3:\"))\n",
    "marks4=int(input(\"Enter the Subject4:\"))\n",
    "marks5=int(input(\"Enter the Subject5:\"))\n",
    "total=marks1+marks2+marks3+marks4+marks5\n",
    "print(\"Total:\",total)\n",
    "percentage=(total/500)*100\n",
    "print(\"Percentage:\",percentage)"
   ]
  },
  {
   "cell_type": "code",
   "execution_count": 2,
   "metadata": {},
   "outputs": [],
   "source": [
    "def percentageofmarks():\n",
    "    marks1=int(input(\"Enter the Subject1:\"))\n",
    "    marks2=int(input(\"Enter the Subject2:\"))\n",
    "    marks3=int(input(\"Enter the Subject3:\"))\n",
    "    marks4=int(input(\"Enter the Subject4:\"))\n",
    "    marks5=int(input(\"Enter the Subject5:\"))\n",
    "    total=marks1+marks2+marks3+marks4+marks5\n",
    "    print(\"Total:\",total)\n",
    "    markss=total\n",
    "    percentage=(total/500)*100\n",
    "    print(\"Percentage:\",percentage)\n",
    "    markss=percentage\n",
    "    return markss"
   ]
  },
  {
   "cell_type": "code",
   "execution_count": 3,
   "metadata": {},
   "outputs": [
    {
     "name": "stdout",
     "output_type": "stream",
     "text": [
      "Enter the Subject1:98\n",
      "Enter the Subject2:87\n",
      "Enter the Subject3:95\n",
      "Enter the Subject4:95\n",
      "Enter the Subject5:93\n",
      "Total: 468\n",
      "Percentage: 93.60000000000001\n"
     ]
    },
    {
     "data": {
      "text/plain": [
       "93.60000000000001"
      ]
     },
     "execution_count": 3,
     "metadata": {},
     "output_type": "execute_result"
    }
   ],
   "source": [
    "percentageofmarks()"
   ]
  },
  {
   "cell_type": "code",
   "execution_count": 6,
   "metadata": {},
   "outputs": [
    {
     "name": "stdout",
     "output_type": "stream",
     "text": [
      "Enter the Subject1:98\n",
      "Enter the Subject2:87\n",
      "Enter the Subject3:95\n",
      "Enter the Subject4:95\n",
      "Enter the Subject5:93\n",
      "Total: 468\n"
     ]
    }
   ],
   "source": [
    "marksss=percentageofmarks()"
   ]
  },
  {
   "cell_type": "code",
   "execution_count": 4,
   "metadata": {},
   "outputs": [],
   "source": [
    "def percentageofmarks():\n",
    "    marks1=int(input(\"Enter the Subject1:\"))\n",
    "    marks2=int(input(\"Enter the Subject2:\"))\n",
    "    marks3=int(input(\"Enter the Subject3:\"))\n",
    "    marks4=int(input(\"Enter the Subject4:\"))\n",
    "    marks5=int(input(\"Enter the Subject5:\"))\n",
    "    total=marks1+marks2+marks3+marks4+marks5\n",
    "    print(\"Total:\",total)\n",
    "    markss=total\n",
    "    return markss\n",
    "    percentage=(total/500)*100\n",
    "    print(\"Percentage:\",percentage)\n",
    "    markss=percentage\n",
    "    return markss"
   ]
  },
  {
   "cell_type": "code",
   "execution_count": 5,
   "metadata": {},
   "outputs": [
    {
     "name": "stdout",
     "output_type": "stream",
     "text": [
      "Enter the Subject1:98\n",
      "Enter the Subject2:87\n",
      "Enter the Subject3:95\n",
      "Enter the Subject4:95\n",
      "Enter the Subject5:93\n",
      "Total: 468\n"
     ]
    },
    {
     "data": {
      "text/plain": [
       "468"
      ]
     },
     "execution_count": 5,
     "metadata": {},
     "output_type": "execute_result"
    }
   ],
   "source": [
    "percentageofmarks()"
   ]
  },
  {
   "cell_type": "code",
   "execution_count": 7,
   "metadata": {},
   "outputs": [
    {
     "name": "stdout",
     "output_type": "stream",
     "text": [
      "Enter the Subject1:98\n",
      "Enter the Subject2:87\n",
      "Enter the Subject3:95\n",
      "Enter the Subject4:95\n",
      "Enter the Subject5:93\n",
      "Total: 468\n"
     ]
    }
   ],
   "source": [
    "marksss=percentageofmarks()"
   ]
  },
  {
   "cell_type": "code",
   "execution_count": 10,
   "metadata": {},
   "outputs": [],
   "source": [
    "def totalofmarks(marks1,marks2,marks3,marks4,marks5):\n",
    "    totalofmarks=98+87+95+95+93\n",
    "    return totalofmarks "
   ]
  },
  {
   "cell_type": "code",
   "execution_count": 11,
   "metadata": {},
   "outputs": [
    {
     "data": {
      "text/plain": [
       "468"
      ]
     },
     "execution_count": 11,
     "metadata": {},
     "output_type": "execute_result"
    }
   ],
   "source": [
    "totalofmarks(marks1,marks2,marks3,marks4,marks5)"
   ]
  },
  {
   "cell_type": "code",
   "execution_count": 14,
   "metadata": {},
   "outputs": [],
   "source": [
    "totall=totalofmarks(marks1,marks2,marks3,marks4,marks5)"
   ]
  },
  {
   "cell_type": "code",
   "execution_count": 18,
   "metadata": {},
   "outputs": [],
   "source": [
    "def percentageofmarks(marks1,marks2,marks3,marks4,marks5):\n",
    "    percentageofmarks=((98+87+95+95+93)/500)*100\n",
    "    return percentageofmarks                  "
   ]
  },
  {
   "cell_type": "code",
   "execution_count": 19,
   "metadata": {},
   "outputs": [
    {
     "data": {
      "text/plain": [
       "93.60000000000001"
      ]
     },
     "execution_count": 19,
     "metadata": {},
     "output_type": "execute_result"
    }
   ],
   "source": [
    "percentageofmarks(marks1,marks2,marks3,marks4,marks5)"
   ]
  },
  {
   "cell_type": "code",
   "execution_count": 20,
   "metadata": {},
   "outputs": [],
   "source": [
    "totall=percentageofmarks(marks1,marks2,marks3,marks4,marks5)"
   ]
  },
  {
   "cell_type": "code",
   "execution_count": 33,
   "metadata": {},
   "outputs": [
    {
     "name": "stdout",
     "output_type": "stream",
     "text": [
      "Enter the height of Triangle:32\n",
      "Enter the breadth of Triangle:34\n",
      "Enter the height1 of Triangle:2\n",
      "Enter the height2 of Triangle:4\n",
      "Enter the breadthh of Triangle:4\n",
      "Area of Triangle: 544.0\n",
      "Perimeter of Triangle: 10\n"
     ]
    }
   ],
   "source": [
    "height=int(input(\"Enter the height of Triangle:\"))\n",
    "breadth=int(input(\"Enter the breadth of Triangle:\"))\n",
    "height1=int(input(\"Enter the height1 of Triangle:\"))\n",
    "height2=int(input(\"Enter the height2 of Triangle:\"))\n",
    "breadthh=int(input(\"Enter the breadthh of Triangle:\"))\n",
    "areaoftriangle=(height*breadth)/2\n",
    "print(\"Area of Triangle:\",areaoftriangle)\n",
    "perimeteroftriangle=height1+height2+breadthh\n",
    "print(\"Perimeter of Triangle:\",perimeteroftriangle)"
   ]
  },
  {
   "cell_type": "code",
   "execution_count": 36,
   "metadata": {},
   "outputs": [
    {
     "name": "stdout",
     "output_type": "stream",
     "text": [
      "Height:32\n",
      "Breadth:34\n",
      "Height1:2\n",
      "Height2:4\n",
      "Breadthh:4\n",
      "Area of Triangle: 544.0\n",
      "Perimeter of Triangle: 10\n"
     ]
    }
   ],
   "source": [
    "Height=int(input(\"Height:\"))\n",
    "Breadth=int(input(\"Breadth:\"))\n",
    "Height1=int(input(\"Height1:\"))\n",
    "Height2=int(input(\"Height2:\"))\n",
    "Breadthh=int(input(\"Breadthh:\"))\n",
    "Area_formula=(Height*Breadth)/2\n",
    "print(\"Area of Triangle:\",Area_formula)\n",
    "Perimeter_formula=Height1+Height2+Breadthh\n",
    "print(\"Perimeter of Triangle:\",Perimeter_formula)"
   ]
  },
  {
   "cell_type": "code",
   "execution_count": 37,
   "metadata": {},
   "outputs": [
    {
     "name": "stdout",
     "output_type": "stream",
     "text": [
      "Height:32\n",
      "Breadth:34\n",
      "Height1:2\n",
      "Height2:4\n",
      "Breadthh:4\n",
      "Area_formula:(Height*Breadth)/2\n",
      "Area of Triangle: (Height*Breadth)/2\n",
      "Perimeter_formula:Height1+Height2+Breadthh\n",
      "Perimeter of Triangle: Height1+Height2+Breadthh\n"
     ]
    }
   ],
   "source": [
    "Height=int(input(\"Height:\"))\n",
    "Breadth=int(input(\"Breadth:\"))\n",
    "Height1=int(input(\"Height1:\"))\n",
    "Height2=int(input(\"Height2:\"))\n",
    "Breadthh=int(input(\"Breadthh:\"))\n",
    "Area_formula=input(\"Area_formula:\")\n",
    "print(\"Area of Triangle:\",Area_formula)\n",
    "Perimeter_formula=input(\"Perimeter_formula:\")\n",
    "print(\"Perimeter of Triangle:\",Perimeter_formula)"
   ]
  },
  {
   "cell_type": "code",
   "execution_count": 40,
   "metadata": {},
   "outputs": [],
   "source": [
    "def areaoftriangle():\n",
    "    height=int(input(\"Enter the height of Triangle:\"))\n",
    "    breadth=int(input(\"Enter the breadth of Triangle:\"))\n",
    "    areaoftriangle=(height*breadth)/2\n",
    "    print(\"Area of Triangle:\",areaoftriangle)\n",
    "    area=areaoftriangle\n",
    "    return area"
   ]
  },
  {
   "cell_type": "code",
   "execution_count": 41,
   "metadata": {},
   "outputs": [
    {
     "name": "stdout",
     "output_type": "stream",
     "text": [
      "Enter the height of Triangle:32\n",
      "Enter the breadth of Triangle:34\n",
      "Area of Triangle: 544.0\n"
     ]
    },
    {
     "data": {
      "text/plain": [
       "544.0"
      ]
     },
     "execution_count": 41,
     "metadata": {},
     "output_type": "execute_result"
    }
   ],
   "source": [
    "areaoftriangle()"
   ]
  },
  {
   "cell_type": "code",
   "execution_count": 42,
   "metadata": {},
   "outputs": [
    {
     "name": "stdout",
     "output_type": "stream",
     "text": [
      "Enter the height of Triangle:32\n",
      "Enter the breadth of Triangle:34\n",
      "Area of Triangle: 544.0\n"
     ]
    }
   ],
   "source": [
    "areaa=areaoftriangle()"
   ]
  },
  {
   "cell_type": "code",
   "execution_count": 43,
   "metadata": {},
   "outputs": [],
   "source": [
    "def perimeteroftriangle():\n",
    "    height1=int(input(\"Enter the height1 of Triangle:\"))\n",
    "    height2=int(input(\"Enter the height2 of Triangle:\"))\n",
    "    breadthh=int(input(\"Enter the breadthh of Triangle:\"))\n",
    "    perimeteroftriangle=height1+height2+breadthh\n",
    "    print(\"Perimeter of Triangle:\",perimeteroftriangle)\n",
    "    perimeter=perimeteroftriangle\n",
    "    return perimeter"
   ]
  },
  {
   "cell_type": "code",
   "execution_count": 44,
   "metadata": {},
   "outputs": [
    {
     "name": "stdout",
     "output_type": "stream",
     "text": [
      "Enter the height1 of Triangle:2\n",
      "Enter the height2 of Triangle:4\n",
      "Enter the breadthh of Triangle:4\n",
      "Perimeter of Triangle: 10\n"
     ]
    },
    {
     "data": {
      "text/plain": [
       "10"
      ]
     },
     "execution_count": 44,
     "metadata": {},
     "output_type": "execute_result"
    }
   ],
   "source": [
    "perimeteroftriangle()"
   ]
  },
  {
   "cell_type": "code",
   "execution_count": 45,
   "metadata": {},
   "outputs": [
    {
     "name": "stdout",
     "output_type": "stream",
     "text": [
      "Enter the height1 of Triangle:2\n",
      "Enter the height2 of Triangle:4\n",
      "Enter the breadthh of Triangle:4\n",
      "Perimeter of Triangle: 10\n"
     ]
    }
   ],
   "source": [
    "perimeterr=perimeteroftriangle()"
   ]
  },
  {
   "cell_type": "code",
   "execution_count": 46,
   "metadata": {},
   "outputs": [],
   "source": [
    "def areaoftriangle():\n",
    "    Height=int(input(\"Height:\"))\n",
    "    Breadth=int(input(\"Breadth:\"))\n",
    "    Area_formula=(Height*Breadth)/2\n",
    "    print(\"Area of Triangle:\",Area_formula)\n",
    "    area=Area_formula\n",
    "    return area"
   ]
  },
  {
   "cell_type": "code",
   "execution_count": 47,
   "metadata": {},
   "outputs": [
    {
     "name": "stdout",
     "output_type": "stream",
     "text": [
      "Height:32\n",
      "Breadth:34\n",
      "Area of Triangle: 544.0\n"
     ]
    },
    {
     "data": {
      "text/plain": [
       "544.0"
      ]
     },
     "execution_count": 47,
     "metadata": {},
     "output_type": "execute_result"
    }
   ],
   "source": [
    "areaoftriangle()"
   ]
  },
  {
   "cell_type": "code",
   "execution_count": 48,
   "metadata": {},
   "outputs": [
    {
     "name": "stdout",
     "output_type": "stream",
     "text": [
      "Height:32\n",
      "Breadth:34\n",
      "Area of Triangle: 544.0\n"
     ]
    }
   ],
   "source": [
    "areaa=areaoftriangle()"
   ]
  },
  {
   "cell_type": "code",
   "execution_count": 49,
   "metadata": {},
   "outputs": [],
   "source": [
    "def perimeteroftriangle():\n",
    "    Height1=int(input(\"Height1:\"))\n",
    "    Height2=int(input(\"Height2:\"))\n",
    "    Breadthh=int(input(\"Breadthh:\"))\n",
    "    Perimeter_formula=Height1+Height2+Breadthh\n",
    "    print(\"Perimeter of Triangle:\",Perimeter_formula)\n",
    "    perimeter=Perimeter_formula\n",
    "    return perimeter"
   ]
  },
  {
   "cell_type": "code",
   "execution_count": 50,
   "metadata": {},
   "outputs": [
    {
     "name": "stdout",
     "output_type": "stream",
     "text": [
      "Height1:2\n",
      "Height2:4\n",
      "Breadthh:4\n",
      "Perimeter of Triangle: 10\n"
     ]
    },
    {
     "data": {
      "text/plain": [
       "10"
      ]
     },
     "execution_count": 50,
     "metadata": {},
     "output_type": "execute_result"
    }
   ],
   "source": [
    "perimeteroftriangle()"
   ]
  },
  {
   "cell_type": "code",
   "execution_count": 51,
   "metadata": {},
   "outputs": [
    {
     "name": "stdout",
     "output_type": "stream",
     "text": [
      "Height1:2\n",
      "Height2:4\n",
      "Breadthh:4\n",
      "Perimeter of Triangle: 10\n"
     ]
    }
   ],
   "source": [
    "perimeterr=perimeteroftriangle()"
   ]
  }
 ],
 "metadata": {
  "kernelspec": {
   "display_name": "Python 3",
   "language": "python",
   "name": "python3"
  },
  "language_info": {
   "codemirror_mode": {
    "name": "ipython",
    "version": 3
   },
   "file_extension": ".py",
   "mimetype": "text/x-python",
   "name": "python",
   "nbconvert_exporter": "python",
   "pygments_lexer": "ipython3",
   "version": "3.7.4"
  }
 },
 "nbformat": 4,
 "nbformat_minor": 2
}
