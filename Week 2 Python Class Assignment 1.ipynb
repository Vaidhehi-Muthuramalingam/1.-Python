{
 "cells": [
  {
   "cell_type": "code",
   "execution_count": 1,
   "metadata": {},
   "outputs": [],
   "source": [
    "class SubfieldsInAI():\n",
    "    def Subfields():\n",
    "        my_string='Sub-fields in AI are:'\n",
    "        print(my_string)\n",
    "        message=\"Sub-fields in AI are:\"\n",
    "        my_string=\"Machine Learning\"\n",
    "        print(my_string)\n",
    "        message=\"Machine Learning\"\n",
    "        my_string='''Neural Networks'''\n",
    "        print(my_string)\n",
    "        message=\"Neural Networks\"\n",
    "        my_string=\"\"\"Vision\"\"\"\n",
    "        print(my_string)\n",
    "        message=\"Vision\"\n",
    "        my_string=\"\"\"Robotics\"\"\"\n",
    "        print(my_string)\n",
    "        message=\"Robotics\"\n",
    "        my_string=\"\"\"Speech Processing\"\"\"\n",
    "        print(my_string)\n",
    "        message=\"Speech Processing\"\n",
    "        my_string=\"\"\"Natural Language Processing\"\"\"\n",
    "        print(my_string)\n",
    "        message=\"Natural Language Processing\"\n",
    "        return message"
   ]
  },
  {
   "cell_type": "code",
   "execution_count": 2,
   "metadata": {},
   "outputs": [
    {
     "name": "stdout",
     "output_type": "stream",
     "text": [
      "Sub-fields in AI are:\n",
      "Machine Learning\n",
      "Neural Networks\n",
      "Vision\n",
      "Robotics\n",
      "Speech Processing\n",
      "Natural Language Processing\n"
     ]
    },
    {
     "data": {
      "text/plain": [
       "'Natural Language Processing'"
      ]
     },
     "execution_count": 2,
     "metadata": {},
     "output_type": "execute_result"
    }
   ],
   "source": [
    "SubfieldsInAI.Subfields()"
   ]
  },
  {
   "cell_type": "code",
   "execution_count": 47,
   "metadata": {},
   "outputs": [
    {
     "ename": "NameError",
     "evalue": "name 'SubfieldsInAI' is not defined",
     "output_type": "error",
     "traceback": [
      "\u001b[1;31m---------------------------------------------------------------------------\u001b[0m",
      "\u001b[1;31mNameError\u001b[0m                                 Traceback (most recent call last)",
      "\u001b[1;32m<ipython-input-47-7dc736b4693f>\u001b[0m in \u001b[0;36m<module>\u001b[1;34m\u001b[0m\n\u001b[1;32m----> 1\u001b[1;33m \u001b[0mresult\u001b[0m\u001b[1;33m==\u001b[0m\u001b[0mSubfieldsInAI\u001b[0m\u001b[1;33m.\u001b[0m\u001b[0mSubfields\u001b[0m\u001b[1;33m(\u001b[0m\u001b[1;33m)\u001b[0m\u001b[1;33m\u001b[0m\u001b[1;33m\u001b[0m\u001b[0m\n\u001b[0m\u001b[0;32m      2\u001b[0m \u001b[0mprint\u001b[0m\u001b[1;33m(\u001b[0m\u001b[1;34m\"Sub-fields in AI are:\"\u001b[0m\u001b[1;33m,\u001b[0m\u001b[0mresult\u001b[0m\u001b[1;33m)\u001b[0m\u001b[1;33m\u001b[0m\u001b[1;33m\u001b[0m\u001b[0m\n",
      "\u001b[1;31mNameError\u001b[0m: name 'SubfieldsInAI' is not defined"
     ]
    }
   ],
   "source": [
    "result==SubfieldsInAI.Subfields()\n",
    "print(\"Sub-fields in AI are:\",result)"
   ]
  },
  {
   "cell_type": "code",
   "execution_count": 5,
   "metadata": {},
   "outputs": [],
   "source": [
    "class SubfieldsInAI():\n",
    "    def Subfields():\n",
    "        message=\"Sub-fields in AI are:\"\n",
    "        print(message)\n",
    "        subfields=message\n",
    "        message=\"Machine Learning\"\n",
    "        print(message)\n",
    "        subfields=message\n",
    "        message=\"Neural Networks\"\n",
    "        print(message)\n",
    "        subfields=message\n",
    "        message=\"Vision\"\n",
    "        print(message)\n",
    "        subfields=message\n",
    "        message=\"Robotics\"\n",
    "        print(message)\n",
    "        subfields=message\n",
    "        message=\"Speech Processing\"\n",
    "        print(message)\n",
    "        subfields=message\n",
    "        message=\"Natural Language Processing\"\n",
    "        print(message)\n",
    "        subfields=message\n",
    "        return Subfields"
   ]
  },
  {
   "cell_type": "code",
   "execution_count": 6,
   "metadata": {},
   "outputs": [
    {
     "name": "stdout",
     "output_type": "stream",
     "text": [
      "Sub-fields in AI are:\n",
      "Machine Learning\n",
      "Neural Networks\n",
      "Vision\n",
      "Robotics\n",
      "Speech Processing\n",
      "Natural Language Processing\n"
     ]
    },
    {
     "ename": "NameError",
     "evalue": "name 'Subfields' is not defined",
     "output_type": "error",
     "traceback": [
      "\u001b[1;31m---------------------------------------------------------------------------\u001b[0m",
      "\u001b[1;31mNameError\u001b[0m                                 Traceback (most recent call last)",
      "\u001b[1;32m<ipython-input-6-0be92ea517a1>\u001b[0m in \u001b[0;36m<module>\u001b[1;34m\u001b[0m\n\u001b[1;32m----> 1\u001b[1;33m \u001b[0mSubfieldsInAI\u001b[0m\u001b[1;33m.\u001b[0m\u001b[0mSubfields\u001b[0m\u001b[1;33m(\u001b[0m\u001b[1;33m)\u001b[0m\u001b[1;33m\u001b[0m\u001b[1;33m\u001b[0m\u001b[0m\n\u001b[0m",
      "\u001b[1;32m<ipython-input-5-f70ae40facb3>\u001b[0m in \u001b[0;36mSubfields\u001b[1;34m()\u001b[0m\n\u001b[0;32m     22\u001b[0m         \u001b[0mprint\u001b[0m\u001b[1;33m(\u001b[0m\u001b[0mmessage\u001b[0m\u001b[1;33m)\u001b[0m\u001b[1;33m\u001b[0m\u001b[1;33m\u001b[0m\u001b[0m\n\u001b[0;32m     23\u001b[0m         \u001b[0msubfields\u001b[0m\u001b[1;33m=\u001b[0m\u001b[0mmessage\u001b[0m\u001b[1;33m\u001b[0m\u001b[1;33m\u001b[0m\u001b[0m\n\u001b[1;32m---> 24\u001b[1;33m         \u001b[1;32mreturn\u001b[0m \u001b[0mSubfields\u001b[0m\u001b[1;33m\u001b[0m\u001b[1;33m\u001b[0m\u001b[0m\n\u001b[0m",
      "\u001b[1;31mNameError\u001b[0m: name 'Subfields' is not defined"
     ]
    }
   ],
   "source": [
    "SubfieldsInAI.Subfields()"
   ]
  },
  {
   "cell_type": "code",
   "execution_count": 48,
   "metadata": {},
   "outputs": [
    {
     "ename": "NameError",
     "evalue": "name 'SubfieldsInAI' is not defined",
     "output_type": "error",
     "traceback": [
      "\u001b[1;31m---------------------------------------------------------------------------\u001b[0m",
      "\u001b[1;31mNameError\u001b[0m                                 Traceback (most recent call last)",
      "\u001b[1;32m<ipython-input-48-a68c73e12d6f>\u001b[0m in \u001b[0;36m<module>\u001b[1;34m\u001b[0m\n\u001b[1;32m----> 1\u001b[1;33m \u001b[0mresult\u001b[0m\u001b[1;33m=\u001b[0m\u001b[0mSubfieldsInAI\u001b[0m\u001b[1;33m.\u001b[0m\u001b[0mSubfields\u001b[0m\u001b[1;33m(\u001b[0m\u001b[1;33m)\u001b[0m\u001b[1;33m\u001b[0m\u001b[1;33m\u001b[0m\u001b[0m\n\u001b[0m\u001b[0;32m      2\u001b[0m \u001b[0mprint\u001b[0m\u001b[1;33m(\u001b[0m\u001b[1;34m\"Sub-fields in AI are:\"\u001b[0m\u001b[1;33m,\u001b[0m\u001b[0mresult\u001b[0m\u001b[1;33m)\u001b[0m\u001b[1;33m\u001b[0m\u001b[1;33m\u001b[0m\u001b[0m\n",
      "\u001b[1;31mNameError\u001b[0m: name 'SubfieldsInAI' is not defined"
     ]
    }
   ],
   "source": [
    "result=SubfieldsInAI.Subfields()\n",
    "print(\"Sub-fields in AI are:\",result)"
   ]
  },
  {
   "cell_type": "code",
   "execution_count": 49,
   "metadata": {},
   "outputs": [],
   "source": [
    "class SubfieldsInAI():\n",
    "    def Subfields():\n",
    "        lists=[\"Sub-fields in AI are:\",\"Machine Learning\",\"Neural Networks\",\"Vision\",\"Robotics\",\"Speech Processing\",\"Natural Language Processing\"]\n",
    "        for subfields in lists:\n",
    "            print(subfields)\n",
    "            message=subfields\n",
    "            return message"
   ]
  },
  {
   "cell_type": "code",
   "execution_count": 50,
   "metadata": {},
   "outputs": [
    {
     "name": "stdout",
     "output_type": "stream",
     "text": [
      "Sub-fields in AI are:\n"
     ]
    },
    {
     "data": {
      "text/plain": [
       "'Sub-fields in AI are:'"
      ]
     },
     "execution_count": 50,
     "metadata": {},
     "output_type": "execute_result"
    }
   ],
   "source": [
    "SubfieldsInAI.Subfields()"
   ]
  },
  {
   "cell_type": "code",
   "execution_count": 51,
   "metadata": {},
   "outputs": [
    {
     "name": "stdout",
     "output_type": "stream",
     "text": [
      "Sub-fields in AI are:\n",
      "Sub-fields in AI are: Sub-fields in AI are:\n"
     ]
    }
   ],
   "source": [
    "result=SubfieldsInAI.Subfields()\n",
    "print(\"Sub-fields in AI are:\",result)"
   ]
  },
  {
   "cell_type": "code",
   "execution_count": 52,
   "metadata": {},
   "outputs": [
    {
     "name": "stdout",
     "output_type": "stream",
     "text": [
      "Sub-fields in AI are:\n",
      "Sub-fields in AI are:\n"
     ]
    }
   ],
   "source": [
    "result=SubfieldsInAI.Subfields()\n",
    "print(result)"
   ]
  },
  {
   "cell_type": "code",
   "execution_count": 1,
   "metadata": {},
   "outputs": [],
   "source": [
    "class OddEven():\n",
    "    def OddEven():\n",
    "        number=int(input(\"Enter a number:\"))\n",
    "        if((number%2)==0):\n",
    "            print(number,\"is Even number\")\n",
    "            message=number,\"is Even number\"\n",
    "        else:\n",
    "            print(number,\"is Odd number\")\n",
    "            message=number,\"is Odd number\"\n",
    "        return message"
   ]
  },
  {
   "cell_type": "code",
   "execution_count": 2,
   "metadata": {},
   "outputs": [
    {
     "name": "stdout",
     "output_type": "stream",
     "text": [
      "Enter a number:52452\n",
      "52452 is Even number\n"
     ]
    },
    {
     "data": {
      "text/plain": [
       "(52452, 'is Even number')"
      ]
     },
     "execution_count": 2,
     "metadata": {},
     "output_type": "execute_result"
    }
   ],
   "source": [
    "OddEven.OddEven()"
   ]
  },
  {
   "cell_type": "code",
   "execution_count": 3,
   "metadata": {},
   "outputs": [
    {
     "name": "stdout",
     "output_type": "stream",
     "text": [
      "Enter a number:52452\n",
      "52452 is Even number\n",
      "(52452, 'is Even number') is Even number\n"
     ]
    }
   ],
   "source": [
    "result=OddEven.OddEven()\n",
    "print(result,\"is Even number\")"
   ]
  },
  {
   "cell_type": "code",
   "execution_count": 4,
   "metadata": {},
   "outputs": [
    {
     "name": "stdout",
     "output_type": "stream",
     "text": [
      "Enter a number:52452\n",
      "52452 is Even number\n",
      "(52452, 'is Even number')\n"
     ]
    }
   ],
   "source": [
    "result=OddEven.OddEven()\n",
    "print(result)"
   ]
  },
  {
   "cell_type": "code",
   "execution_count": 5,
   "metadata": {},
   "outputs": [],
   "source": [
    "class OddEven():\n",
    "    def OddEven():\n",
    "        number=int(input(\"Enter a number:\"))\n",
    "        if((number%2)==1):\n",
    "            print(number,\"is Odd number\")\n",
    "            message=number,\"is Odd number\"\n",
    "        else:\n",
    "            print(number,\"is Even number\")\n",
    "            message=number,\"is Even number\"\n",
    "        return message"
   ]
  },
  {
   "cell_type": "code",
   "execution_count": 6,
   "metadata": {},
   "outputs": [
    {
     "name": "stdout",
     "output_type": "stream",
     "text": [
      "Enter a number:52452\n",
      "52452 is Even number\n"
     ]
    },
    {
     "data": {
      "text/plain": [
       "(52452, 'is Even number')"
      ]
     },
     "execution_count": 6,
     "metadata": {},
     "output_type": "execute_result"
    }
   ],
   "source": [
    "OddEven.OddEven()"
   ]
  },
  {
   "cell_type": "code",
   "execution_count": 7,
   "metadata": {},
   "outputs": [
    {
     "name": "stdout",
     "output_type": "stream",
     "text": [
      "Enter a number:52452\n",
      "52452 is Even number\n",
      "(52452, 'is Even number') is Even number\n"
     ]
    }
   ],
   "source": [
    "result=OddEven.OddEven()\n",
    "print(result,\"is Even number\")"
   ]
  },
  {
   "cell_type": "code",
   "execution_count": 8,
   "metadata": {},
   "outputs": [
    {
     "name": "stdout",
     "output_type": "stream",
     "text": [
      "Enter a number:52452\n",
      "52452 is Even number\n",
      "(52452, 'is Even number')\n"
     ]
    }
   ],
   "source": [
    "result=OddEven.OddEven()\n",
    "print(result)"
   ]
  },
  {
   "cell_type": "code",
   "execution_count": 9,
   "metadata": {},
   "outputs": [],
   "source": [
    "class OddEven():\n",
    "    def OddEven():\n",
    "        number=int(input(\"Enter a number:\"))\n",
    "        if((number%2)==0):\n",
    "            print(number,\"is Even number\")\n",
    "            message=number,\"is Even number\"\n",
    "        elif((number%2)==1):\n",
    "            print(number,\"is Odd number\")\n",
    "            message=number,\"is Odd number\"\n",
    "        else:\n",
    "            print(\"Invalid\")\n",
    "            message=\"Invalid\"\n",
    "        return message"
   ]
  },
  {
   "cell_type": "code",
   "execution_count": 10,
   "metadata": {},
   "outputs": [
    {
     "name": "stdout",
     "output_type": "stream",
     "text": [
      "Enter a number:52452\n",
      "52452 is Even number\n"
     ]
    },
    {
     "data": {
      "text/plain": [
       "(52452, 'is Even number')"
      ]
     },
     "execution_count": 10,
     "metadata": {},
     "output_type": "execute_result"
    }
   ],
   "source": [
    "OddEven.OddEven()"
   ]
  },
  {
   "cell_type": "code",
   "execution_count": 11,
   "metadata": {},
   "outputs": [
    {
     "name": "stdout",
     "output_type": "stream",
     "text": [
      "Enter a number:52452\n",
      "52452 is Even number\n",
      "(52452, 'is Even number') is Even number\n"
     ]
    }
   ],
   "source": [
    "result=OddEven.OddEven()\n",
    "print(result,\"is Even number\")"
   ]
  },
  {
   "cell_type": "code",
   "execution_count": 12,
   "metadata": {},
   "outputs": [
    {
     "name": "stdout",
     "output_type": "stream",
     "text": [
      "Enter a number:52452\n",
      "52452 is Even number\n",
      "(52452, 'is Even number')\n"
     ]
    }
   ],
   "source": [
    "result=OddEven.OddEven()\n",
    "print(result)"
   ]
  },
  {
   "cell_type": "code",
   "execution_count": 13,
   "metadata": {},
   "outputs": [],
   "source": [
    "class ElegibilityForMarriage():\n",
    "    def Elegible():\n",
    "        your_gender=input(\"Your Gender:\")\n",
    "        your_age=int(input(\"Your Age:\"))\n",
    "        if(your_age==21):\n",
    "            print(\"ELIGIBLE\")\n",
    "            message=\"ELIGIBLE\"\n",
    "        else:\n",
    "            print(\"NOT ELIGIBLE\")\n",
    "            message=\"NOT ELIGIBLE\"\n",
    "        return message"
   ]
  },
  {
   "cell_type": "code",
   "execution_count": 14,
   "metadata": {},
   "outputs": [
    {
     "name": "stdout",
     "output_type": "stream",
     "text": [
      "Your Gender:Male\n",
      "Your Age:20\n",
      "NOT ELIGIBLE\n"
     ]
    },
    {
     "data": {
      "text/plain": [
       "'NOT ELIGIBLE'"
      ]
     },
     "execution_count": 14,
     "metadata": {},
     "output_type": "execute_result"
    }
   ],
   "source": [
    "ElegibilityForMarriage.Elegible()"
   ]
  },
  {
   "cell_type": "code",
   "execution_count": 15,
   "metadata": {},
   "outputs": [
    {
     "name": "stdout",
     "output_type": "stream",
     "text": [
      "Your Gender:Male\n",
      "Your Age:20\n",
      "NOT ELIGIBLE\n",
      "NOT ELIGIBLE\n"
     ]
    }
   ],
   "source": [
    "result=ElegibilityForMarriage.Elegible()\n",
    "print(result)"
   ]
  },
  {
   "cell_type": "code",
   "execution_count": 16,
   "metadata": {},
   "outputs": [],
   "source": [
    "class ElegibilityForMarriage():\n",
    "    def Elegible():\n",
    "        your_gender=input(\"Your Gender:\")\n",
    "        your_age=int(input(\"Your Age:\"))\n",
    "        if(your_age<21):\n",
    "            print(\"NOT ELIGIBLE\")\n",
    "            message=\"NOT ELIGIBLE\"\n",
    "        else:\n",
    "            print(\"ELIGIBLE\")\n",
    "            message=\"ELIGIBLE\"\n",
    "        return message    "
   ]
  },
  {
   "cell_type": "code",
   "execution_count": 17,
   "metadata": {},
   "outputs": [
    {
     "name": "stdout",
     "output_type": "stream",
     "text": [
      "Your Gender:Male\n",
      "Your Age:20\n",
      "NOT ELIGIBLE\n"
     ]
    },
    {
     "data": {
      "text/plain": [
       "'NOT ELIGIBLE'"
      ]
     },
     "execution_count": 17,
     "metadata": {},
     "output_type": "execute_result"
    }
   ],
   "source": [
    "ElegibilityForMarriage.Elegible()"
   ]
  },
  {
   "cell_type": "code",
   "execution_count": 18,
   "metadata": {},
   "outputs": [
    {
     "name": "stdout",
     "output_type": "stream",
     "text": [
      "Your Gender:Male\n",
      "Your Age:20\n",
      "NOT ELIGIBLE\n",
      "NOT ELIGIBLE\n"
     ]
    }
   ],
   "source": [
    "result=ElegibilityForMarriage.Elegible()\n",
    "print(result)"
   ]
  },
  {
   "cell_type": "code",
   "execution_count": 19,
   "metadata": {},
   "outputs": [],
   "source": [
    "class FindPercent():\n",
    "    def percentageofmarks():\n",
    "        marks1=int(input(\"Enter the Subject1:\"))\n",
    "        marks2=int(input(\"Enter the Subject2:\"))\n",
    "        marks3=int(input(\"Enter the Subject3:\"))\n",
    "        marks4=int(input(\"Enter the Subject4:\"))\n",
    "        marks5=int(input(\"Enter the Subject5:\"))\n",
    "        total=marks1+marks2+marks3+marks4+marks5\n",
    "        print(\"Total:\",total)\n",
    "        markss=total\n",
    "        percentage=(total/500)*100\n",
    "        print(\"Percentage:\",percentage)\n",
    "        markss=percentage\n",
    "        return markss"
   ]
  },
  {
   "cell_type": "code",
   "execution_count": 20,
   "metadata": {},
   "outputs": [
    {
     "name": "stdout",
     "output_type": "stream",
     "text": [
      "Enter the Subject1:98\n",
      "Enter the Subject2:87\n",
      "Enter the Subject3:95\n",
      "Enter the Subject4:95\n",
      "Enter the Subject5:93\n",
      "Total: 468\n",
      "Percentage: 93.60000000000001\n"
     ]
    },
    {
     "data": {
      "text/plain": [
       "93.60000000000001"
      ]
     },
     "execution_count": 20,
     "metadata": {},
     "output_type": "execute_result"
    }
   ],
   "source": [
    "FindPercent.percentageofmarks()"
   ]
  },
  {
   "cell_type": "code",
   "execution_count": 21,
   "metadata": {},
   "outputs": [
    {
     "name": "stdout",
     "output_type": "stream",
     "text": [
      "Enter the Subject1:98\n",
      "Enter the Subject2:87\n",
      "Enter the Subject3:95\n",
      "Enter the Subject4:95\n",
      "Enter the Subject5:93\n",
      "Total: 468\n",
      "Percentage: 93.60000000000001\n",
      "93.60000000000001\n"
     ]
    }
   ],
   "source": [
    "result=FindPercent.percentageofmarks()\n",
    "print(result)"
   ]
  },
  {
   "cell_type": "code",
   "execution_count": 22,
   "metadata": {},
   "outputs": [],
   "source": [
    "class FindPercent():\n",
    "    def percentageofmarks():\n",
    "        marks1=int(input(\"Enter the Subject1:\"))\n",
    "        marks2=int(input(\"Enter the Subject2:\"))\n",
    "        marks3=int(input(\"Enter the Subject3:\"))\n",
    "        marks4=int(input(\"Enter the Subject4:\"))\n",
    "        marks5=int(input(\"Enter the Subject5:\"))\n",
    "        total=marks1+marks2+marks3+marks4+marks5\n",
    "        print(\"Total:\",total)\n",
    "        markss=total\n",
    "        return markss\n",
    "        percentage=(total/500)*100\n",
    "        print(\"Percentage:\",percentage)\n",
    "        markss=percentage\n",
    "        return markss"
   ]
  },
  {
   "cell_type": "code",
   "execution_count": 23,
   "metadata": {},
   "outputs": [
    {
     "name": "stdout",
     "output_type": "stream",
     "text": [
      "Enter the Subject1:98\n",
      "Enter the Subject2:87\n",
      "Enter the Subject3:95\n",
      "Enter the Subject4:95\n",
      "Enter the Subject5:93\n",
      "Total: 468\n"
     ]
    },
    {
     "data": {
      "text/plain": [
       "468"
      ]
     },
     "execution_count": 23,
     "metadata": {},
     "output_type": "execute_result"
    }
   ],
   "source": [
    "FindPercent.percentageofmarks()"
   ]
  },
  {
   "cell_type": "code",
   "execution_count": 24,
   "metadata": {},
   "outputs": [
    {
     "name": "stdout",
     "output_type": "stream",
     "text": [
      "Enter the Subject1:98\n",
      "Enter the Subject2:87\n",
      "Enter the Subject3:95\n",
      "Enter the Subject4:95\n",
      "Enter the Subject5:93\n",
      "Total: 468\n",
      "468\n"
     ]
    }
   ],
   "source": [
    "result=FindPercent.percentageofmarks()\n",
    "print(result)"
   ]
  },
  {
   "cell_type": "code",
   "execution_count": 25,
   "metadata": {},
   "outputs": [],
   "source": [
    "class FindTotal():\n",
    "    def totalofmarks(marks1,marks2,marks3,marks4,marks5):\n",
    "        totalofmarks=98+87+95+95+93\n",
    "        return totalofmarks "
   ]
  },
  {
   "cell_type": "code",
   "execution_count": 27,
   "metadata": {},
   "outputs": [
    {
     "data": {
      "text/plain": [
       "468"
      ]
     },
     "execution_count": 27,
     "metadata": {},
     "output_type": "execute_result"
    }
   ],
   "source": [
    "FindTotal.totalofmarks(98,87,95,95,93)"
   ]
  },
  {
   "cell_type": "code",
   "execution_count": 28,
   "metadata": {},
   "outputs": [
    {
     "name": "stdout",
     "output_type": "stream",
     "text": [
      "Total: 468\n"
     ]
    }
   ],
   "source": [
    "result=FindTotal.totalofmarks(98,87,95,95,93)\n",
    "print(\"Total:\",result)"
   ]
  },
  {
   "cell_type": "code",
   "execution_count": 29,
   "metadata": {},
   "outputs": [],
   "source": [
    "class FindPercent():\n",
    "    def percentageofmarks(marks1,marks2,marks3,marks4,marks5):\n",
    "        percentageofmarks=((98+87+95+95+93)/500)*100\n",
    "        return percentageofmarks                  "
   ]
  },
  {
   "cell_type": "code",
   "execution_count": 31,
   "metadata": {},
   "outputs": [
    {
     "data": {
      "text/plain": [
       "93.60000000000001"
      ]
     },
     "execution_count": 31,
     "metadata": {},
     "output_type": "execute_result"
    }
   ],
   "source": [
    "FindPercent.percentageofmarks(98,87,95,95,93)"
   ]
  },
  {
   "cell_type": "code",
   "execution_count": 32,
   "metadata": {},
   "outputs": [
    {
     "name": "stdout",
     "output_type": "stream",
     "text": [
      "Percentage: 93.60000000000001\n"
     ]
    }
   ],
   "source": [
    "result=FindPercent.percentageofmarks(98,87,95,95,93)\n",
    "print(\"Percentage:\",result)"
   ]
  },
  {
   "cell_type": "code",
   "execution_count": 33,
   "metadata": {},
   "outputs": [],
   "source": [
    "class triangle():\n",
    "    def areaoftriangle():\n",
    "        height=int(input(\"Enter the height of Triangle:\"))\n",
    "        breadth=int(input(\"Enter the breadth of Triangle:\"))\n",
    "        areaoftriangle=(height*breadth)/2\n",
    "        print(\"Area of Triangle:\",areaoftriangle)\n",
    "        area=areaoftriangle\n",
    "        return area"
   ]
  },
  {
   "cell_type": "code",
   "execution_count": 34,
   "metadata": {},
   "outputs": [
    {
     "name": "stdout",
     "output_type": "stream",
     "text": [
      "Enter the height of Triangle:32\n",
      "Enter the breadth of Triangle:34\n",
      "Area of Triangle: 544.0\n"
     ]
    },
    {
     "data": {
      "text/plain": [
       "544.0"
      ]
     },
     "execution_count": 34,
     "metadata": {},
     "output_type": "execute_result"
    }
   ],
   "source": [
    " triangle.areaoftriangle()"
   ]
  },
  {
   "cell_type": "code",
   "execution_count": 35,
   "metadata": {},
   "outputs": [
    {
     "name": "stdout",
     "output_type": "stream",
     "text": [
      "Enter the height of Triangle:32\n",
      "Enter the breadth of Triangle:34\n",
      "Area of Triangle: 544.0\n",
      "Area of Triangle: 544.0\n"
     ]
    }
   ],
   "source": [
    "result=triangle.areaoftriangle()\n",
    "print(\"Area of Triangle:\",result)"
   ]
  },
  {
   "cell_type": "code",
   "execution_count": 36,
   "metadata": {},
   "outputs": [],
   "source": [
    "class triangle():\n",
    "    def perimeteroftriangle():\n",
    "        height1=int(input(\"Enter the height1 of Triangle:\"))\n",
    "        height2=int(input(\"Enter the height2 of Triangle:\"))\n",
    "        breadthh=int(input(\"Enter the breadthh of Triangle:\"))\n",
    "        perimeteroftriangle=height1+height2+breadthh\n",
    "        print(\"Perimeter of Triangle:\",perimeteroftriangle)\n",
    "        perimeter=perimeteroftriangle\n",
    "        return perimeter"
   ]
  },
  {
   "cell_type": "code",
   "execution_count": 37,
   "metadata": {},
   "outputs": [
    {
     "name": "stdout",
     "output_type": "stream",
     "text": [
      "Enter the height1 of Triangle:2\n",
      "Enter the height2 of Triangle:4\n",
      "Enter the breadthh of Triangle:4\n",
      "Perimeter of Triangle: 10\n"
     ]
    },
    {
     "data": {
      "text/plain": [
       "10"
      ]
     },
     "execution_count": 37,
     "metadata": {},
     "output_type": "execute_result"
    }
   ],
   "source": [
    "triangle.perimeteroftriangle()"
   ]
  },
  {
   "cell_type": "code",
   "execution_count": 38,
   "metadata": {},
   "outputs": [
    {
     "name": "stdout",
     "output_type": "stream",
     "text": [
      "Enter the height1 of Triangle:2\n",
      "Enter the height2 of Triangle:4\n",
      "Enter the breadthh of Triangle:4\n",
      "Perimeter of Triangle: 10\n",
      "Perimeter of Triangle: 10\n"
     ]
    }
   ],
   "source": [
    "result=triangle.perimeteroftriangle()\n",
    "print(\"Perimeter of Triangle:\",result)"
   ]
  },
  {
   "cell_type": "code",
   "execution_count": 39,
   "metadata": {},
   "outputs": [],
   "source": [
    "class triangle():\n",
    "    def areaoftriangle():\n",
    "        Height=int(input(\"Height:\"))\n",
    "        Breadth=int(input(\"Breadth:\"))\n",
    "        Area_formula=(Height*Breadth)/2\n",
    "        print(\"Area of Triangle:\",Area_formula)\n",
    "        area=Area_formula\n",
    "        return area"
   ]
  },
  {
   "cell_type": "code",
   "execution_count": 40,
   "metadata": {},
   "outputs": [
    {
     "name": "stdout",
     "output_type": "stream",
     "text": [
      "Height:32\n",
      "Breadth:34\n",
      "Area of Triangle: 544.0\n"
     ]
    },
    {
     "data": {
      "text/plain": [
       "544.0"
      ]
     },
     "execution_count": 40,
     "metadata": {},
     "output_type": "execute_result"
    }
   ],
   "source": [
    "triangle.areaoftriangle()"
   ]
  },
  {
   "cell_type": "code",
   "execution_count": 41,
   "metadata": {},
   "outputs": [
    {
     "name": "stdout",
     "output_type": "stream",
     "text": [
      "Height:32\n",
      "Breadth:34\n",
      "Area of Triangle: 544.0\n",
      "Area of Triangle: 544.0\n"
     ]
    }
   ],
   "source": [
    "result=triangle.areaoftriangle()\n",
    "print(\"Area of Triangle:\",result)"
   ]
  },
  {
   "cell_type": "code",
   "execution_count": 42,
   "metadata": {},
   "outputs": [],
   "source": [
    "class triangle():\n",
    "    def perimeteroftriangle():\n",
    "        Height1=int(input(\"Height1:\"))\n",
    "        Height2=int(input(\"Height2:\"))\n",
    "        Breadthh=int(input(\"Breadthh:\"))\n",
    "        Perimeter_formula=Height1+Height2+Breadthh\n",
    "        print(\"Perimeter of Triangle:\",Perimeter_formula)\n",
    "        perimeter=Perimeter_formula\n",
    "        return perimeter"
   ]
  },
  {
   "cell_type": "code",
   "execution_count": 43,
   "metadata": {},
   "outputs": [
    {
     "name": "stdout",
     "output_type": "stream",
     "text": [
      "Height1:2\n",
      "Height2:4\n",
      "Breadthh:4\n",
      "Perimeter of Triangle: 10\n"
     ]
    },
    {
     "data": {
      "text/plain": [
       "10"
      ]
     },
     "execution_count": 43,
     "metadata": {},
     "output_type": "execute_result"
    }
   ],
   "source": [
    "triangle.perimeteroftriangle()"
   ]
  },
  {
   "cell_type": "code",
   "execution_count": 44,
   "metadata": {},
   "outputs": [
    {
     "name": "stdout",
     "output_type": "stream",
     "text": [
      "Height1:2\n",
      "Height2:4\n",
      "Breadthh:4\n",
      "Perimeter of Triangle: 10\n",
      "Perimeter of Triangle: 10\n"
     ]
    }
   ],
   "source": [
    "result=triangle.perimeteroftriangle()\n",
    "print(\"Perimeter of Triangle:\",result)"
   ]
  },
  {
   "cell_type": "code",
   "execution_count": null,
   "metadata": {},
   "outputs": [],
   "source": []
  }
 ],
 "metadata": {
  "kernelspec": {
   "display_name": "Python 3",
   "language": "python",
   "name": "python3"
  },
  "language_info": {
   "codemirror_mode": {
    "name": "ipython",
    "version": 3
   },
   "file_extension": ".py",
   "mimetype": "text/x-python",
   "name": "python",
   "nbconvert_exporter": "python",
   "pygments_lexer": "ipython3",
   "version": "3.7.4"
  }
 },
 "nbformat": 4,
 "nbformat_minor": 2
}
