{
 "cells": [
  {
   "cell_type": "code",
   "execution_count": 3,
   "metadata": {},
   "outputs": [],
   "source": [
    "class multiplefunctions():\n",
    "    def Subfields():\n",
    "        lists=[\"Sub-fields in AI are:\",\"Machine Learning\",\"Neural Networks\",\"Vision\",\"Robotics\",\"Speech Processing\",\"Natural Language Processing\"]\n",
    "        for subfields in lists:\n",
    "            print(subfields)\n",
    "            message=subfields\n",
    "            return message\n",
    "    def OddEven():\n",
    "        number=int(input(\"Enter a number:\"))\n",
    "        if((number%2)==0):\n",
    "            print(number,\"is Even number\")\n",
    "            message=number,\"is Even number\"\n",
    "        else:\n",
    "            print(number,\"is Odd number\")\n",
    "            message=number,\"is Odd number\"\n",
    "        return message\n",
    "    def OddEven():\n",
    "        number=int(input(\"Enter a number:\"))\n",
    "        if((number%2)==1):\n",
    "            print(number,\"is Odd number\")\n",
    "            message=number,\"is Odd number\"\n",
    "        else:\n",
    "            print(number,\"is Even number\")\n",
    "            message=number,\"is Even number\"\n",
    "        return message\n",
    "    def OddEven():\n",
    "        number=int(input(\"Enter a number:\"))\n",
    "        if((number%2)==0):\n",
    "            print(number,\"is Even number\")\n",
    "            message=number,\"is Even number\"\n",
    "        elif((number%2)==1):\n",
    "            print(number,\"is Odd number\")\n",
    "            message=number,\"is Odd number\"\n",
    "        else:\n",
    "            print(\"Invalid\")\n",
    "            message=\"Invalid\"\n",
    "        return message\n",
    "    def Elegible():\n",
    "        your_gender=input(\"Your Gender:\")\n",
    "        your_age=int(input(\"Your Age:\"))\n",
    "        if(your_age==21):\n",
    "            print(\"ELIGIBLE\")\n",
    "            message=\"ELIGIBLE\"\n",
    "        else:\n",
    "            print(\"NOT ELIGIBLE\")\n",
    "            message=\"NOT ELIGIBLE\"\n",
    "        return message\n",
    "    def Elegible():\n",
    "        your_gender=input(\"Your Gender:\")\n",
    "        your_age=int(input(\"Your Age:\"))\n",
    "        if(your_age<21):\n",
    "            print(\"NOT ELIGIBLE\")\n",
    "            message=\"NOT ELIGIBLE\"\n",
    "        else:\n",
    "            print(\"ELIGIBLE\")\n",
    "            message=\"ELIGIBLE\"\n",
    "        return message\n",
    "    def percentageofmarks():\n",
    "        marks1=int(input(\"Enter the Subject1:\"))\n",
    "        marks2=int(input(\"Enter the Subject2:\"))\n",
    "        marks3=int(input(\"Enter the Subject3:\"))\n",
    "        marks4=int(input(\"Enter the Subject4:\"))\n",
    "        marks5=int(input(\"Enter the Subject5:\"))\n",
    "        total=marks1+marks2+marks3+marks4+marks5\n",
    "        print(\"Total:\",total)\n",
    "        markss=total\n",
    "        percentage=(total/500)*100\n",
    "        print(\"Percentage:\",percentage)\n",
    "        markss=percentage\n",
    "        return markss\n",
    "    def percentageofmarks():\n",
    "        marks1=int(input(\"Enter the Subject1:\"))\n",
    "        marks2=int(input(\"Enter the Subject2:\"))\n",
    "        marks3=int(input(\"Enter the Subject3:\"))\n",
    "        marks4=int(input(\"Enter the Subject4:\"))\n",
    "        marks5=int(input(\"Enter the Subject5:\"))\n",
    "        total=marks1+marks2+marks3+marks4+marks5\n",
    "        print(\"Total:\",total)\n",
    "        markss=total\n",
    "        return markss\n",
    "        percentage=(total/500)*100\n",
    "        print(\"Percentage:\",percentage)\n",
    "        markss=percentage\n",
    "        return markss\n",
    "    def totalofmarks(marks1,marks2,marks3,marks4,marks5):\n",
    "        totalofmarks=98+87+95+95+93\n",
    "        return totalofmarks\n",
    "    def percentageofmarks(marks1,marks2,marks3,marks4,marks5):\n",
    "        percentageofmarks=((98+87+95+95+93)/500)*100\n",
    "        return percentageofmarks\n",
    "    def areaoftriangle():\n",
    "        height=int(input(\"Enter the height of Triangle:\"))\n",
    "        breadth=int(input(\"Enter the breadth of Triangle:\"))\n",
    "        areaoftriangle=(height*breadth)/2\n",
    "        print(\"Area of Triangle:\",areaoftriangle)\n",
    "        area=areaoftriangle\n",
    "        return area\n",
    "    def perimeteroftriangle():\n",
    "        height1=int(input(\"Enter the height1 of Triangle:\"))\n",
    "        height2=int(input(\"Enter the height2 of Triangle:\"))\n",
    "        breadthh=int(input(\"Enter the breadthh of Triangle:\"))\n",
    "        perimeteroftriangle=height1+height2+breadthh\n",
    "        print(\"Perimeter of Triangle:\",perimeteroftriangle)\n",
    "        perimeter=perimeteroftriangle\n",
    "        return perimeter\n",
    "    def areaoftriangle():\n",
    "        Height=int(input(\"Height:\"))\n",
    "        Breadth=int(input(\"Breadth:\"))\n",
    "        Area_formula=(Height*Breadth)/2\n",
    "        print(\"Area of Triangle:\",Area_formula)\n",
    "        area=Area_formula\n",
    "        return area\n",
    "    def perimeteroftriangle():\n",
    "        Height1=int(input(\"Height1:\"))\n",
    "        Height2=int(input(\"Height2:\"))\n",
    "        Breadthh=int(input(\"Breadthh:\"))\n",
    "        Perimeter_formula=Height1+Height2+Breadthh\n",
    "        print(\"Perimeter of Triangle:\",Perimeter_formula)\n",
    "        perimeter=Perimeter_formula\n",
    "        return perimeter"
   ]
  },
  {
   "cell_type": "code",
   "execution_count": 4,
   "metadata": {},
   "outputs": [
    {
     "name": "stdout",
     "output_type": "stream",
     "text": [
      "Sub-fields in AI are:\n"
     ]
    },
    {
     "data": {
      "text/plain": [
       "'Sub-fields in AI are:'"
      ]
     },
     "execution_count": 4,
     "metadata": {},
     "output_type": "execute_result"
    }
   ],
   "source": [
    "multiplefunctions.Subfields()"
   ]
  },
  {
   "cell_type": "code",
   "execution_count": 5,
   "metadata": {},
   "outputs": [
    {
     "name": "stdout",
     "output_type": "stream",
     "text": [
      "Sub-fields in AI are:\n",
      "Sub-fields in AI are:\n"
     ]
    }
   ],
   "source": [
    "result1=multiplefunctions.Subfields()\n",
    "print(result1)"
   ]
  },
  {
   "cell_type": "code",
   "execution_count": 6,
   "metadata": {},
   "outputs": [
    {
     "name": "stdout",
     "output_type": "stream",
     "text": [
      "Enter a number:52452\n",
      "52452 is Even number\n"
     ]
    },
    {
     "data": {
      "text/plain": [
       "(52452, 'is Even number')"
      ]
     },
     "execution_count": 6,
     "metadata": {},
     "output_type": "execute_result"
    }
   ],
   "source": [
    "multiplefunctions.OddEven()"
   ]
  },
  {
   "cell_type": "code",
   "execution_count": 7,
   "metadata": {},
   "outputs": [
    {
     "name": "stdout",
     "output_type": "stream",
     "text": [
      "Enter a number:52452\n",
      "52452 is Even number\n",
      "(52452, 'is Even number')\n"
     ]
    }
   ],
   "source": [
    "result2=multiplefunctions.OddEven()\n",
    "print(result2)"
   ]
  },
  {
   "cell_type": "code",
   "execution_count": 8,
   "metadata": {},
   "outputs": [
    {
     "name": "stdout",
     "output_type": "stream",
     "text": [
      "Enter a number:52452\n",
      "52452 is Even number\n"
     ]
    },
    {
     "data": {
      "text/plain": [
       "(52452, 'is Even number')"
      ]
     },
     "execution_count": 8,
     "metadata": {},
     "output_type": "execute_result"
    }
   ],
   "source": [
    "multiplefunctions.OddEven()"
   ]
  },
  {
   "cell_type": "code",
   "execution_count": 9,
   "metadata": {},
   "outputs": [
    {
     "name": "stdout",
     "output_type": "stream",
     "text": [
      "Enter a number:52452\n",
      "52452 is Even number\n",
      "(52452, 'is Even number')\n"
     ]
    }
   ],
   "source": [
    "result3=multiplefunctions.OddEven()\n",
    "print(result3)"
   ]
  },
  {
   "cell_type": "code",
   "execution_count": 10,
   "metadata": {},
   "outputs": [
    {
     "name": "stdout",
     "output_type": "stream",
     "text": [
      "Enter a number:52452\n",
      "52452 is Even number\n"
     ]
    },
    {
     "data": {
      "text/plain": [
       "(52452, 'is Even number')"
      ]
     },
     "execution_count": 10,
     "metadata": {},
     "output_type": "execute_result"
    }
   ],
   "source": [
    "multiplefunctions.OddEven()"
   ]
  },
  {
   "cell_type": "code",
   "execution_count": 11,
   "metadata": {},
   "outputs": [
    {
     "name": "stdout",
     "output_type": "stream",
     "text": [
      "Enter a number:52452\n",
      "52452 is Even number\n",
      "(52452, 'is Even number')\n"
     ]
    }
   ],
   "source": [
    "result4=multiplefunctions.OddEven()\n",
    "print(result4)"
   ]
  },
  {
   "cell_type": "code",
   "execution_count": 12,
   "metadata": {},
   "outputs": [
    {
     "name": "stdout",
     "output_type": "stream",
     "text": [
      "Your Gender:Male\n",
      "Your Age:20\n",
      "NOT ELIGIBLE\n"
     ]
    },
    {
     "data": {
      "text/plain": [
       "'NOT ELIGIBLE'"
      ]
     },
     "execution_count": 12,
     "metadata": {},
     "output_type": "execute_result"
    }
   ],
   "source": [
    "multiplefunctions.Elegible()"
   ]
  },
  {
   "cell_type": "code",
   "execution_count": 13,
   "metadata": {},
   "outputs": [
    {
     "name": "stdout",
     "output_type": "stream",
     "text": [
      "Your Gender:Male\n",
      "Your Age:20\n",
      "NOT ELIGIBLE\n",
      "NOT ELIGIBLE\n"
     ]
    }
   ],
   "source": [
    "result5=multiplefunctions.Elegible()\n",
    "print(result5)"
   ]
  },
  {
   "cell_type": "code",
   "execution_count": 14,
   "metadata": {},
   "outputs": [
    {
     "name": "stdout",
     "output_type": "stream",
     "text": [
      "Your Gender:Male\n",
      "Your Age:20\n",
      "NOT ELIGIBLE\n"
     ]
    },
    {
     "data": {
      "text/plain": [
       "'NOT ELIGIBLE'"
      ]
     },
     "execution_count": 14,
     "metadata": {},
     "output_type": "execute_result"
    }
   ],
   "source": [
    "multiplefunctions.Elegible()"
   ]
  },
  {
   "cell_type": "code",
   "execution_count": 15,
   "metadata": {},
   "outputs": [
    {
     "name": "stdout",
     "output_type": "stream",
     "text": [
      "Your Gender:Male\n",
      "Your Age:20\n",
      "NOT ELIGIBLE\n",
      "NOT ELIGIBLE\n"
     ]
    }
   ],
   "source": [
    "result6=multiplefunctions.Elegible()\n",
    "print(result6)"
   ]
  },
  {
   "cell_type": "code",
   "execution_count": 36,
   "metadata": {},
   "outputs": [
    {
     "data": {
      "text/plain": [
       "93.60000000000001"
      ]
     },
     "execution_count": 36,
     "metadata": {},
     "output_type": "execute_result"
    }
   ],
   "source": [
    "multiplefunctions.percentageofmarks(98,87,95,95,93)"
   ]
  },
  {
   "cell_type": "code",
   "execution_count": 18,
   "metadata": {},
   "outputs": [
    {
     "name": "stdout",
     "output_type": "stream",
     "text": [
      "93.60000000000001\n"
     ]
    }
   ],
   "source": [
    "result7=multiplefunctions.percentageofmarks(98,87,95,95,93)\n",
    "print(result7)"
   ]
  },
  {
   "cell_type": "code",
   "execution_count": 38,
   "metadata": {},
   "outputs": [
    {
     "data": {
      "text/plain": [
       "93.60000000000001"
      ]
     },
     "execution_count": 38,
     "metadata": {},
     "output_type": "execute_result"
    }
   ],
   "source": [
    "multiplefunctions.percentageofmarks(98,87,95,95,93)"
   ]
  },
  {
   "cell_type": "code",
   "execution_count": 21,
   "metadata": {},
   "outputs": [
    {
     "name": "stdout",
     "output_type": "stream",
     "text": [
      "93.60000000000001\n"
     ]
    }
   ],
   "source": [
    "result8=multiplefunctions.percentageofmarks(98,87,95,95,93)\n",
    "print(result8)"
   ]
  },
  {
   "cell_type": "code",
   "execution_count": 40,
   "metadata": {},
   "outputs": [
    {
     "data": {
      "text/plain": [
       "468"
      ]
     },
     "execution_count": 40,
     "metadata": {},
     "output_type": "execute_result"
    }
   ],
   "source": [
    "multiplefunctions.totalofmarks(98,87,95,95,93)"
   ]
  },
  {
   "cell_type": "code",
   "execution_count": 24,
   "metadata": {},
   "outputs": [
    {
     "name": "stdout",
     "output_type": "stream",
     "text": [
      "468\n"
     ]
    }
   ],
   "source": [
    "result9=multiplefunctions.totalofmarks(98,87,95,95,93)\n",
    "print(result9)"
   ]
  },
  {
   "cell_type": "code",
   "execution_count": 42,
   "metadata": {},
   "outputs": [
    {
     "data": {
      "text/plain": [
       "93.60000000000001"
      ]
     },
     "execution_count": 42,
     "metadata": {},
     "output_type": "execute_result"
    }
   ],
   "source": [
    "multiplefunctions.percentageofmarks(98,87,95,95,93)"
   ]
  },
  {
   "cell_type": "code",
   "execution_count": 26,
   "metadata": {},
   "outputs": [
    {
     "name": "stdout",
     "output_type": "stream",
     "text": [
      "93.60000000000001\n"
     ]
    }
   ],
   "source": [
    "result10=multiplefunctions.percentageofmarks(98,87,95,95,93)\n",
    "print(result10)"
   ]
  },
  {
   "cell_type": "code",
   "execution_count": 27,
   "metadata": {},
   "outputs": [
    {
     "name": "stdout",
     "output_type": "stream",
     "text": [
      "Height:32\n",
      "Breadth:34\n",
      "Area of Triangle: 544.0\n"
     ]
    },
    {
     "data": {
      "text/plain": [
       "544.0"
      ]
     },
     "execution_count": 27,
     "metadata": {},
     "output_type": "execute_result"
    }
   ],
   "source": [
    "multiplefunctions.areaoftriangle()"
   ]
  },
  {
   "cell_type": "code",
   "execution_count": 28,
   "metadata": {},
   "outputs": [
    {
     "name": "stdout",
     "output_type": "stream",
     "text": [
      "Height:32\n",
      "Breadth:34\n",
      "Area of Triangle: 544.0\n",
      "544.0\n"
     ]
    }
   ],
   "source": [
    "result11=multiplefunctions.areaoftriangle()\n",
    "print(result11)"
   ]
  },
  {
   "cell_type": "code",
   "execution_count": 29,
   "metadata": {},
   "outputs": [
    {
     "name": "stdout",
     "output_type": "stream",
     "text": [
      "Height1:2\n",
      "Height2:4\n",
      "Breadthh:4\n",
      "Perimeter of Triangle: 10\n"
     ]
    },
    {
     "data": {
      "text/plain": [
       "10"
      ]
     },
     "execution_count": 29,
     "metadata": {},
     "output_type": "execute_result"
    }
   ],
   "source": [
    "multiplefunctions.perimeteroftriangle()"
   ]
  },
  {
   "cell_type": "code",
   "execution_count": 30,
   "metadata": {},
   "outputs": [
    {
     "name": "stdout",
     "output_type": "stream",
     "text": [
      "Height1:2\n",
      "Height2:4\n",
      "Breadthh:4\n",
      "Perimeter of Triangle: 10\n",
      "10\n"
     ]
    }
   ],
   "source": [
    "result12=multiplefunctions.perimeteroftriangle()\n",
    "print(result12)"
   ]
  },
  {
   "cell_type": "code",
   "execution_count": 31,
   "metadata": {},
   "outputs": [
    {
     "name": "stdout",
     "output_type": "stream",
     "text": [
      "Height:32\n",
      "Breadth:34\n",
      "Area of Triangle: 544.0\n"
     ]
    },
    {
     "data": {
      "text/plain": [
       "544.0"
      ]
     },
     "execution_count": 31,
     "metadata": {},
     "output_type": "execute_result"
    }
   ],
   "source": [
    "multiplefunctions.areaoftriangle()"
   ]
  },
  {
   "cell_type": "code",
   "execution_count": 32,
   "metadata": {},
   "outputs": [
    {
     "name": "stdout",
     "output_type": "stream",
     "text": [
      "Height:32\n",
      "Breadth:34\n",
      "Area of Triangle: 544.0\n",
      "544.0\n"
     ]
    }
   ],
   "source": [
    "result13=multiplefunctions.areaoftriangle()\n",
    "print(result13)"
   ]
  },
  {
   "cell_type": "code",
   "execution_count": 33,
   "metadata": {},
   "outputs": [
    {
     "name": "stdout",
     "output_type": "stream",
     "text": [
      "Height1:2\n",
      "Height2:4\n",
      "Breadthh:4\n",
      "Perimeter of Triangle: 10\n"
     ]
    },
    {
     "data": {
      "text/plain": [
       "10"
      ]
     },
     "execution_count": 33,
     "metadata": {},
     "output_type": "execute_result"
    }
   ],
   "source": [
    "multiplefunctions.perimeteroftriangle()"
   ]
  },
  {
   "cell_type": "code",
   "execution_count": 34,
   "metadata": {},
   "outputs": [
    {
     "name": "stdout",
     "output_type": "stream",
     "text": [
      "Height1:2\n",
      "Height2:4\n",
      "Breadthh:4\n",
      "Perimeter of Triangle: 10\n",
      "10\n"
     ]
    }
   ],
   "source": [
    "result14=multiplefunctions.perimeteroftriangle()\n",
    "print(result14)"
   ]
  },
  {
   "cell_type": "code",
   "execution_count": null,
   "metadata": {},
   "outputs": [],
   "source": []
  }
 ],
 "metadata": {
  "kernelspec": {
   "display_name": "Python 3",
   "language": "python",
   "name": "python3"
  },
  "language_info": {
   "codemirror_mode": {
    "name": "ipython",
    "version": 3
   },
   "file_extension": ".py",
   "mimetype": "text/x-python",
   "name": "python",
   "nbconvert_exporter": "python",
   "pygments_lexer": "ipython3",
   "version": "3.7.4"
  }
 },
 "nbformat": 4,
 "nbformat_minor": 2
}
