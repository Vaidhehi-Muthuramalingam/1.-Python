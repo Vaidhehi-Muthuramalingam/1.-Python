{
 "cells": [
  {
   "cell_type": "code",
   "execution_count": 1,
   "metadata": {},
   "outputs": [],
   "source": [
    "from multiplefunctions import multiplefunctions"
   ]
  },
  {
   "cell_type": "code",
   "execution_count": 2,
   "metadata": {},
   "outputs": [
    {
     "name": "stdout",
     "output_type": "stream",
     "text": [
      "Sub-fields in AI are:\n"
     ]
    },
    {
     "data": {
      "text/plain": [
       "'Sub-fields in AI are:'"
      ]
     },
     "execution_count": 2,
     "metadata": {},
     "output_type": "execute_result"
    }
   ],
   "source": [
    "multiplefunctions.Subfields()"
   ]
  },
  {
   "cell_type": "code",
   "execution_count": 3,
   "metadata": {},
   "outputs": [
    {
     "name": "stdout",
     "output_type": "stream",
     "text": [
      "Sub-fields in AI are:\n",
      "Sub-fields in AI are:\n"
     ]
    }
   ],
   "source": [
    "result1=multiplefunctions.Subfields()\n",
    "print(result1)"
   ]
  },
  {
   "cell_type": "code",
   "execution_count": 4,
   "metadata": {},
   "outputs": [
    {
     "name": "stdout",
     "output_type": "stream",
     "text": [
      "Enter a number:52452\n",
      "52452 is Even number\n"
     ]
    },
    {
     "data": {
      "text/plain": [
       "(52452, 'is Even number')"
      ]
     },
     "execution_count": 4,
     "metadata": {},
     "output_type": "execute_result"
    }
   ],
   "source": [
    "multiplefunctions.OddEven()"
   ]
  },
  {
   "cell_type": "code",
   "execution_count": 5,
   "metadata": {},
   "outputs": [
    {
     "name": "stdout",
     "output_type": "stream",
     "text": [
      "Enter a number:52452\n",
      "52452 is Even number\n",
      "(52452, 'is Even number')\n"
     ]
    }
   ],
   "source": [
    "result2=multiplefunctions.OddEven()\n",
    "print(result2)"
   ]
  },
  {
   "cell_type": "code",
   "execution_count": 6,
   "metadata": {},
   "outputs": [
    {
     "name": "stdout",
     "output_type": "stream",
     "text": [
      "Enter a number:52452\n",
      "52452 is Even number\n"
     ]
    },
    {
     "data": {
      "text/plain": [
       "(52452, 'is Even number')"
      ]
     },
     "execution_count": 6,
     "metadata": {},
     "output_type": "execute_result"
    }
   ],
   "source": [
    "multiplefunctions.OddEven()"
   ]
  },
  {
   "cell_type": "code",
   "execution_count": 7,
   "metadata": {},
   "outputs": [
    {
     "name": "stdout",
     "output_type": "stream",
     "text": [
      "Enter a number:52452\n",
      "52452 is Even number\n",
      "(52452, 'is Even number')\n"
     ]
    }
   ],
   "source": [
    "result3=multiplefunctions.OddEven()\n",
    "print(result3)"
   ]
  },
  {
   "cell_type": "code",
   "execution_count": 8,
   "metadata": {},
   "outputs": [
    {
     "name": "stdout",
     "output_type": "stream",
     "text": [
      "Enter a number:52452\n",
      "52452 is Even number\n"
     ]
    },
    {
     "data": {
      "text/plain": [
       "(52452, 'is Even number')"
      ]
     },
     "execution_count": 8,
     "metadata": {},
     "output_type": "execute_result"
    }
   ],
   "source": [
    "multiplefunctions.OddEven()"
   ]
  },
  {
   "cell_type": "code",
   "execution_count": 9,
   "metadata": {},
   "outputs": [
    {
     "name": "stdout",
     "output_type": "stream",
     "text": [
      "Enter a number:52452\n",
      "52452 is Even number\n",
      "(52452, 'is Even number')\n"
     ]
    }
   ],
   "source": [
    "result4=multiplefunctions.OddEven()\n",
    "print(result4)"
   ]
  },
  {
   "cell_type": "code",
   "execution_count": 10,
   "metadata": {},
   "outputs": [
    {
     "name": "stdout",
     "output_type": "stream",
     "text": [
      "Your Gender:Male\n",
      "Your Age:20\n",
      "NOT ELIGIBLE\n"
     ]
    },
    {
     "data": {
      "text/plain": [
       "'NOT ELIGIBLE'"
      ]
     },
     "execution_count": 10,
     "metadata": {},
     "output_type": "execute_result"
    }
   ],
   "source": [
    "multiplefunctions.Elegible()"
   ]
  },
  {
   "cell_type": "code",
   "execution_count": 11,
   "metadata": {},
   "outputs": [
    {
     "name": "stdout",
     "output_type": "stream",
     "text": [
      "Your Gender:Male\n",
      "Your Age:20\n",
      "NOT ELIGIBLE\n",
      "NOT ELIGIBLE\n"
     ]
    }
   ],
   "source": [
    "result5=multiplefunctions.Elegible()\n",
    "print(result5)"
   ]
  },
  {
   "cell_type": "code",
   "execution_count": 12,
   "metadata": {},
   "outputs": [
    {
     "name": "stdout",
     "output_type": "stream",
     "text": [
      "Your Gender:Male\n",
      "Your Age:20\n",
      "NOT ELIGIBLE\n"
     ]
    },
    {
     "data": {
      "text/plain": [
       "'NOT ELIGIBLE'"
      ]
     },
     "execution_count": 12,
     "metadata": {},
     "output_type": "execute_result"
    }
   ],
   "source": [
    "multiplefunctions.Elegible()"
   ]
  },
  {
   "cell_type": "code",
   "execution_count": 13,
   "metadata": {},
   "outputs": [
    {
     "name": "stdout",
     "output_type": "stream",
     "text": [
      "Your Gender:Male\n",
      "Your Age:20\n",
      "NOT ELIGIBLE\n",
      "NOT ELIGIBLE\n"
     ]
    }
   ],
   "source": [
    "result6=multiplefunctions.Elegible()\n",
    "print(result6)"
   ]
  },
  {
   "cell_type": "code",
   "execution_count": 14,
   "metadata": {},
   "outputs": [
    {
     "data": {
      "text/plain": [
       "93.60000000000001"
      ]
     },
     "execution_count": 14,
     "metadata": {},
     "output_type": "execute_result"
    }
   ],
   "source": [
    "multiplefunctions.percentageofmarks(98,87,95,95,93)"
   ]
  },
  {
   "cell_type": "code",
   "execution_count": 15,
   "metadata": {},
   "outputs": [
    {
     "name": "stdout",
     "output_type": "stream",
     "text": [
      "93.60000000000001\n"
     ]
    }
   ],
   "source": [
    "result7=multiplefunctions.percentageofmarks(98,87,95,95,93)\n",
    "print(result7)"
   ]
  },
  {
   "cell_type": "code",
   "execution_count": 16,
   "metadata": {},
   "outputs": [
    {
     "data": {
      "text/plain": [
       "93.60000000000001"
      ]
     },
     "execution_count": 16,
     "metadata": {},
     "output_type": "execute_result"
    }
   ],
   "source": [
    "multiplefunctions.percentageofmarks(98,87,95,95,93)"
   ]
  },
  {
   "cell_type": "code",
   "execution_count": 17,
   "metadata": {},
   "outputs": [
    {
     "name": "stdout",
     "output_type": "stream",
     "text": [
      "93.60000000000001\n"
     ]
    }
   ],
   "source": [
    "result8=multiplefunctions.percentageofmarks(98,87,95,95,93)\n",
    "print(result8)"
   ]
  },
  {
   "cell_type": "code",
   "execution_count": 18,
   "metadata": {},
   "outputs": [
    {
     "data": {
      "text/plain": [
       "468"
      ]
     },
     "execution_count": 18,
     "metadata": {},
     "output_type": "execute_result"
    }
   ],
   "source": [
    "multiplefunctions.totalofmarks(98,87,95,95,93)"
   ]
  },
  {
   "cell_type": "code",
   "execution_count": 19,
   "metadata": {},
   "outputs": [
    {
     "name": "stdout",
     "output_type": "stream",
     "text": [
      "468\n"
     ]
    }
   ],
   "source": [
    "result9=multiplefunctions.totalofmarks(98,87,95,95,93)\n",
    "print(result9)"
   ]
  },
  {
   "cell_type": "code",
   "execution_count": 20,
   "metadata": {},
   "outputs": [
    {
     "data": {
      "text/plain": [
       "93.60000000000001"
      ]
     },
     "execution_count": 20,
     "metadata": {},
     "output_type": "execute_result"
    }
   ],
   "source": [
    "multiplefunctions.percentageofmarks(98,87,95,95,93)"
   ]
  },
  {
   "cell_type": "code",
   "execution_count": 21,
   "metadata": {},
   "outputs": [
    {
     "name": "stdout",
     "output_type": "stream",
     "text": [
      "93.60000000000001\n"
     ]
    }
   ],
   "source": [
    "result10=multiplefunctions.percentageofmarks(98,87,95,95,93)\n",
    "print(result10)"
   ]
  },
  {
   "cell_type": "code",
   "execution_count": 22,
   "metadata": {},
   "outputs": [
    {
     "name": "stdout",
     "output_type": "stream",
     "text": [
      "Height:32\n",
      "Breadth:34\n",
      "Area of Triangle: 544.0\n"
     ]
    },
    {
     "data": {
      "text/plain": [
       "544.0"
      ]
     },
     "execution_count": 22,
     "metadata": {},
     "output_type": "execute_result"
    }
   ],
   "source": [
    "multiplefunctions.areaoftriangle()"
   ]
  },
  {
   "cell_type": "code",
   "execution_count": 23,
   "metadata": {},
   "outputs": [
    {
     "name": "stdout",
     "output_type": "stream",
     "text": [
      "Height:32\n",
      "Breadth:34\n",
      "Area of Triangle: 544.0\n",
      "544.0\n"
     ]
    }
   ],
   "source": [
    "result11=multiplefunctions.areaoftriangle()\n",
    "print(result11)"
   ]
  },
  {
   "cell_type": "code",
   "execution_count": 24,
   "metadata": {},
   "outputs": [
    {
     "name": "stdout",
     "output_type": "stream",
     "text": [
      "Height1:2\n",
      "Height2:4\n",
      "Breadthh:4\n",
      "Perimeter of Triangle: 10\n"
     ]
    },
    {
     "data": {
      "text/plain": [
       "10"
      ]
     },
     "execution_count": 24,
     "metadata": {},
     "output_type": "execute_result"
    }
   ],
   "source": [
    "multiplefunctions.perimeteroftriangle()"
   ]
  },
  {
   "cell_type": "code",
   "execution_count": 25,
   "metadata": {},
   "outputs": [
    {
     "name": "stdout",
     "output_type": "stream",
     "text": [
      "Height1:2\n",
      "Height2:4\n",
      "Breadthh:4\n",
      "Perimeter of Triangle: 10\n",
      "10\n"
     ]
    }
   ],
   "source": [
    "result12=multiplefunctions.perimeteroftriangle()\n",
    "print(result12)"
   ]
  },
  {
   "cell_type": "code",
   "execution_count": 26,
   "metadata": {},
   "outputs": [
    {
     "name": "stdout",
     "output_type": "stream",
     "text": [
      "Height:32\n",
      "Breadth:34\n",
      "Area of Triangle: 544.0\n"
     ]
    },
    {
     "data": {
      "text/plain": [
       "544.0"
      ]
     },
     "execution_count": 26,
     "metadata": {},
     "output_type": "execute_result"
    }
   ],
   "source": [
    "multiplefunctions.areaoftriangle()"
   ]
  },
  {
   "cell_type": "code",
   "execution_count": 27,
   "metadata": {},
   "outputs": [
    {
     "name": "stdout",
     "output_type": "stream",
     "text": [
      "Height:32\n",
      "Breadth:34\n",
      "Area of Triangle: 544.0\n",
      "544.0\n"
     ]
    }
   ],
   "source": [
    "result13=multiplefunctions.areaoftriangle()\n",
    "print(result13)"
   ]
  },
  {
   "cell_type": "code",
   "execution_count": 28,
   "metadata": {},
   "outputs": [
    {
     "name": "stdout",
     "output_type": "stream",
     "text": [
      "Height1:2\n",
      "Height2:4\n",
      "Breadthh:4\n",
      "Perimeter of Triangle: 10\n"
     ]
    },
    {
     "data": {
      "text/plain": [
       "10"
      ]
     },
     "execution_count": 28,
     "metadata": {},
     "output_type": "execute_result"
    }
   ],
   "source": [
    "multiplefunctions.perimeteroftriangle()"
   ]
  },
  {
   "cell_type": "code",
   "execution_count": 29,
   "metadata": {},
   "outputs": [
    {
     "name": "stdout",
     "output_type": "stream",
     "text": [
      "Height1:2\n",
      "Height2:4\n",
      "Breadthh:4\n",
      "Perimeter of Triangle: 10\n",
      "10\n"
     ]
    }
   ],
   "source": [
    "result14=multiplefunctions.perimeteroftriangle()\n",
    "print(result14)"
   ]
  },
  {
   "cell_type": "code",
   "execution_count": null,
   "metadata": {},
   "outputs": [],
   "source": []
  }
 ],
 "metadata": {
  "kernelspec": {
   "display_name": "Python 3",
   "language": "python",
   "name": "python3"
  },
  "language_info": {
   "codemirror_mode": {
    "name": "ipython",
    "version": 3
   },
   "file_extension": ".py",
   "mimetype": "text/x-python",
   "name": "python",
   "nbconvert_exporter": "python",
   "pygments_lexer": "ipython3",
   "version": "3.7.4"
  }
 },
 "nbformat": 4,
 "nbformat_minor": 2
}
